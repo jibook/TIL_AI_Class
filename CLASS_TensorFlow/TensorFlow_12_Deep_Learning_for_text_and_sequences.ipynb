{
  "nbformat": 4,
  "nbformat_minor": 0,
  "metadata": {
    "colab": {
      "name": "TensorFlow_12_Deep Learning for text and  sequences.ipynb",
      "provenance": [],
      "authorship_tag": "ABX9TyPLRV0JyyZX+WNG5pUFzyxt",
      "include_colab_link": true
    },
    "kernelspec": {
      "name": "python3",
      "display_name": "Python 3"
    },
    "language_info": {
      "name": "python"
    }
  },
  "cells": [
    {
      "cell_type": "markdown",
      "metadata": {
        "id": "view-in-github",
        "colab_type": "text"
      },
      "source": [
        "<a href=\"https://colab.research.google.com/github/jibook/git-remote/blob/master/TensorFlow_12_Deep_Learning_for_text_and_sequences.ipynb\" target=\"_parent\"><img src=\"https://colab.research.google.com/assets/colab-badge.svg\" alt=\"Open In Colab\"/></a>"
      ]
    },
    {
      "cell_type": "code",
      "execution_count": null,
      "metadata": {
        "id": "0yK8jItJk1yH"
      },
      "outputs": [],
      "source": [
        "import numpy as np \n",
        " \n",
        "timesteps = 100 \n",
        "input_features = 32 \n",
        "output_features = 64 \n",
        "\n",
        "inputs = np.random.random((timesteps, input_features))\n",
        "\n",
        "state_t = np.zeros((output_features,)) \n",
        "\n",
        "W = np.random.random((output_features, input_features))\n",
        "U = np.random.random((output_features, output_features))\n",
        "b = np.random.random((output_features,)) \n",
        "\n",
        "successive_outputs = [] \n",
        "for input_t in inputs: \n",
        "  output_t = np.tanh(np.dot(W, input_t) + np.dot(U, state_t) + b)\n",
        "  successive_outputs.append(output_t) \n",
        "  state_t = output_t \n",
        "\n",
        "final_output_sequence = np.concatenate(successive_outputs, axis=0) "
      ]
    },
    {
      "cell_type": "code",
      "source": [
        "from keras.models import Sequential\n",
        "from keras.layers import Embedding, SimpleRNN\n",
        "\n",
        "model = Sequential()\n",
        "model.add(Embedding(10000, 32))\n",
        "model.add(SimpleRNN(32))\n",
        "model.summary() "
      ],
      "metadata": {
        "colab": {
          "base_uri": "https://localhost:8080/"
        },
        "id": "pc4gfQn9k_j-",
        "outputId": "787f7827-3f1b-41c0-a0a1-68e803150c16"
      },
      "execution_count": null,
      "outputs": [
        {
          "output_type": "stream",
          "name": "stdout",
          "text": [
            "Model: \"sequential\"\n",
            "_________________________________________________________________\n",
            " Layer (type)                Output Shape              Param #   \n",
            "=================================================================\n",
            " embedding (Embedding)       (None, None, 32)          320000    \n",
            "                                                                 \n",
            " simple_rnn (SimpleRNN)      (None, 32)                2080      \n",
            "                                                                 \n",
            "=================================================================\n",
            "Total params: 322,080\n",
            "Trainable params: 322,080\n",
            "Non-trainable params: 0\n",
            "_________________________________________________________________\n"
          ]
        }
      ]
    },
    {
      "cell_type": "code",
      "source": [
        "model = Sequential()\n",
        "model.add(Embedding(10000, 32))\n",
        "model.add(SimpleRNN(32, return_sequences=True))\n",
        "model.add(SimpleRNN(32, return_sequences=True))\n",
        "model.add(SimpleRNN(32, return_sequences=True))\n",
        "model.add(SimpleRNN(32))\n",
        "model.summary() "
      ],
      "metadata": {
        "colab": {
          "base_uri": "https://localhost:8080/"
        },
        "id": "YbS5KGxSlIRm",
        "outputId": "87f29ecb-1b3c-43ca-ebd4-33a1897371ae"
      },
      "execution_count": null,
      "outputs": [
        {
          "output_type": "stream",
          "name": "stdout",
          "text": [
            "Model: \"sequential_1\"\n",
            "_________________________________________________________________\n",
            " Layer (type)                Output Shape              Param #   \n",
            "=================================================================\n",
            " embedding_1 (Embedding)     (None, None, 32)          320000    \n",
            "                                                                 \n",
            " simple_rnn_1 (SimpleRNN)    (None, None, 32)          2080      \n",
            "                                                                 \n",
            " simple_rnn_2 (SimpleRNN)    (None, None, 32)          2080      \n",
            "                                                                 \n",
            " simple_rnn_3 (SimpleRNN)    (None, None, 32)          2080      \n",
            "                                                                 \n",
            " simple_rnn_4 (SimpleRNN)    (None, 32)                2080      \n",
            "                                                                 \n",
            "=================================================================\n",
            "Total params: 328,320\n",
            "Trainable params: 328,320\n",
            "Non-trainable params: 0\n",
            "_________________________________________________________________\n"
          ]
        }
      ]
    },
    {
      "cell_type": "code",
      "source": [
        "from keras.datasets import imdb \n",
        "from keras.preprocessing import sequence \n",
        "\n",
        "max_features = 10000 \n",
        "maxlen = 500 \n",
        "batch_size = 32 \n",
        "\n",
        "print('Loading data...') \n",
        "(input_train, y_train), (input_test, y_test) = imdb.load_data(num_words=max_features) \n",
        "print(len(input_train), 'train sequences') \n",
        "print(len(input_test), 'test sequences')\n",
        " \n",
        "print('Pad sequences (samples x time)') \n",
        "input_train = sequence.pad_sequences(input_train, maxlen=maxlen)\n",
        "input_test = sequence.pad_sequences(input_test, maxlen=maxlen)\n",
        "print('input_train shape:', input_train.shape) \n",
        "print('input_test shape:', input_test.shape)"
      ],
      "metadata": {
        "colab": {
          "base_uri": "https://localhost:8080/"
        },
        "id": "sh3VPSo-lPqT",
        "outputId": "631c4d14-43b2-47c8-a539-aeef57cf70fe"
      },
      "execution_count": null,
      "outputs": [
        {
          "output_type": "stream",
          "name": "stdout",
          "text": [
            "Loading data...\n",
            "Downloading data from https://storage.googleapis.com/tensorflow/tf-keras-datasets/imdb.npz\n",
            "17465344/17464789 [==============================] - 0s 0us/step\n",
            "17473536/17464789 [==============================] - 0s 0us/step\n",
            "25000 train sequences\n",
            "25000 test sequences\n",
            "Pad sequences (samples x time)\n",
            "input_train shape: (25000, 500)\n",
            "input_test shape: (25000, 500)\n"
          ]
        }
      ]
    },
    {
      "cell_type": "code",
      "source": [
        "from keras.layers import Dense \n",
        "model = Sequential()\n",
        "model.add(Embedding(max_features, 32))\n",
        "model.add(SimpleRNN(32))\n",
        "model.add(Dense(1, activation='sigmoid')) \n",
        "model.compile(optimizer='rmsprop', loss='binary_crossentropy', metrics=['acc'])\n",
        "history = model.fit(input_train, y_train, epochs=10, batch_size=128, validation_split=0.2)"
      ],
      "metadata": {
        "colab": {
          "base_uri": "https://localhost:8080/"
        },
        "id": "LAZpIyW-lX-u",
        "outputId": "ed2a1340-8a2e-4482-a1b9-c96be7c6e786"
      },
      "execution_count": null,
      "outputs": [
        {
          "output_type": "stream",
          "name": "stdout",
          "text": [
            "Epoch 1/10\n",
            "157/157 [==============================] - 25s 150ms/step - loss: 0.5755 - acc: 0.6887 - val_loss: 0.5393 - val_acc: 0.7254\n",
            "Epoch 2/10\n",
            "157/157 [==============================] - 24s 151ms/step - loss: 0.3557 - acc: 0.8557 - val_loss: 0.4603 - val_acc: 0.7810\n",
            "Epoch 3/10\n",
            "157/157 [==============================] - 24s 152ms/step - loss: 0.2916 - acc: 0.8844 - val_loss: 0.4113 - val_acc: 0.8406\n",
            "Epoch 4/10\n",
            "157/157 [==============================] - 23s 148ms/step - loss: 0.2349 - acc: 0.9099 - val_loss: 0.3454 - val_acc: 0.8670\n",
            "Epoch 5/10\n",
            "157/157 [==============================] - 23s 148ms/step - loss: 0.1754 - acc: 0.9341 - val_loss: 0.3858 - val_acc: 0.8380\n",
            "Epoch 6/10\n",
            "157/157 [==============================] - 23s 148ms/step - loss: 0.1415 - acc: 0.9506 - val_loss: 0.3802 - val_acc: 0.8622\n",
            "Epoch 7/10\n",
            "157/157 [==============================] - 23s 149ms/step - loss: 0.0927 - acc: 0.9697 - val_loss: 0.4586 - val_acc: 0.8374\n",
            "Epoch 8/10\n",
            "157/157 [==============================] - 23s 149ms/step - loss: 0.0630 - acc: 0.9805 - val_loss: 0.4780 - val_acc: 0.8604\n",
            "Epoch 9/10\n",
            "157/157 [==============================] - 23s 147ms/step - loss: 0.0404 - acc: 0.9879 - val_loss: 0.5271 - val_acc: 0.8434\n",
            "Epoch 10/10\n",
            "157/157 [==============================] - 23s 147ms/step - loss: 0.0296 - acc: 0.9908 - val_loss: 0.5520 - val_acc: 0.8310\n"
          ]
        }
      ]
    },
    {
      "cell_type": "code",
      "source": [
        "import matplotlib.pyplot as plt \n",
        "acc = history.history['acc'] \n",
        "val_acc = history.history['val_acc']\n",
        "loss = history.history['loss']\n",
        "val_loss = history.history['val_loss'] \n",
        "epochs = range(1, len(acc) + 1) \n",
        "plt.plot(epochs, acc, 'bo', label='Training acc')\n",
        "plt.plot(epochs, val_acc, 'b', label='Validation acc') \n",
        "plt.title('Training and validation accuracy')\n",
        "plt.legend() \n",
        "plt.figure()"
      ],
      "metadata": {
        "colab": {
          "base_uri": "https://localhost:8080/",
          "height": 317
        },
        "id": "3U7eFSAJqcEi",
        "outputId": "9fe208c0-d81f-42ba-acbf-37d431402183"
      },
      "execution_count": null,
      "outputs": [
        {
          "output_type": "execute_result",
          "data": {
            "text/plain": [
              "<Figure size 432x288 with 0 Axes>"
            ]
          },
          "metadata": {},
          "execution_count": 6
        },
        {
          "output_type": "display_data",
          "data": {
            "image/png": "[encoded data removed]",
            "text/plain": [
              "<Figure size 432x288 with 1 Axes>"
            ]
          },
          "metadata": {
            "needs_background": "light"
          }
        },
        {
          "output_type": "display_data",
          "data": {
            "text/plain": [
              "<Figure size 432x288 with 0 Axes>"
            ]
          },
          "metadata": {}
        }
      ]
    },
    {
      "cell_type": "code",
      "source": [
        "plt.plot(epochs, loss, 'bo', label='Training loss')\n",
        "plt.plot(epochs, val_loss, 'b', label='Validation loss')\n",
        "plt.title('Training and validation loss') \n",
        "plt.legend() \n",
        "plt.show()"
      ],
      "metadata": {
        "colab": {
          "base_uri": "https://localhost:8080/",
          "height": 281
        },
        "id": "CijjTddZqjZZ",
        "outputId": "4b0bc30e-5f71-4ff9-e873-1b05186f8281"
      },
      "execution_count": null,
      "outputs": [
        {
          "output_type": "display_data",
          "data": {
            "image/png": "[encoded data removed]",
            "text/plain": [
              "<Figure size 432x288 with 1 Axes>"
            ]
          },
          "metadata": {
            "needs_background": "light"
          }
        }
      ]
    },
    {
      "cell_type": "markdown",
      "source": [
        "- LSTM 으로 진행"
      ],
      "metadata": {
        "id": "2POp2Lctucdz"
      }
    },
    {
      "cell_type": "code",
      "source": [
        "from keras.layers import LSTM \n",
        "model = Sequential()\n",
        "model.add(Embedding(max_features, 32)) \n",
        "model.add(LSTM(32)) \n",
        "model.add(Dense(1, activation='sigmoid')) \n",
        "model.compile(optimizer='rmsprop', loss='binary_crossentropy', metrics=['acc']) \n",
        "history = model.fit(input_train, y_train, epochs=10, batch_size=128, validation_split=0.2)"
      ],
      "metadata": {
        "colab": {
          "base_uri": "https://localhost:8080/"
        },
        "id": "mCeAnk-9rukM",
        "outputId": "9362156a-7b6b-4e1f-e1b6-3c8e3435fb3f"
      },
      "execution_count": null,
      "outputs": [
        {
          "output_type": "stream",
          "name": "stdout",
          "text": [
            "Epoch 1/10\n",
            "157/157 [==============================] - 54s 329ms/step - loss: 0.5209 - acc: 0.7495 - val_loss: 0.3915 - val_acc: 0.8390\n",
            "Epoch 2/10\n",
            "157/157 [==============================] - 51s 327ms/step - loss: 0.2977 - acc: 0.8810 - val_loss: 0.3195 - val_acc: 0.8814\n",
            "Epoch 3/10\n",
            "157/157 [==============================] - 52s 328ms/step - loss: 0.2403 - acc: 0.9083 - val_loss: 0.3431 - val_acc: 0.8820\n",
            "Epoch 4/10\n",
            "157/157 [==============================] - 51s 325ms/step - loss: 0.1998 - acc: 0.9270 - val_loss: 0.2877 - val_acc: 0.8914\n",
            "Epoch 5/10\n",
            "157/157 [==============================] - 51s 327ms/step - loss: 0.1827 - acc: 0.9336 - val_loss: 0.3161 - val_acc: 0.8716\n",
            "Epoch 6/10\n",
            "157/157 [==============================] - 51s 326ms/step - loss: 0.1608 - acc: 0.9446 - val_loss: 0.3295 - val_acc: 0.8862\n",
            "Epoch 7/10\n",
            "157/157 [==============================] - 51s 326ms/step - loss: 0.1481 - acc: 0.9481 - val_loss: 0.3326 - val_acc: 0.8698\n",
            "Epoch 8/10\n",
            "157/157 [==============================] - 51s 326ms/step - loss: 0.1382 - acc: 0.9527 - val_loss: 0.4536 - val_acc: 0.8418\n",
            "Epoch 9/10\n",
            "157/157 [==============================] - 51s 325ms/step - loss: 0.1247 - acc: 0.9564 - val_loss: 0.3276 - val_acc: 0.8782\n",
            "Epoch 10/10\n",
            "157/157 [==============================] - 52s 329ms/step - loss: 0.1191 - acc: 0.9604 - val_loss: 0.4058 - val_acc: 0.8562\n"
          ]
        }
      ]
    },
    {
      "cell_type": "code",
      "source": [
        "import matplotlib.pyplot as plt \n",
        "acc = history.history['acc'] \n",
        "val_acc = history.history['val_acc']\n",
        "loss = history.history['loss']\n",
        "val_loss = history.history['val_loss'] \n",
        "epochs = range(1, len(acc) + 1) \n",
        "plt.plot(epochs, acc, 'bo', label='Training acc')\n",
        "plt.plot(epochs, val_acc, 'b', label='Validation acc')\n",
        "plt.title('Training and validation accuracy')\n",
        "plt.legend() \n",
        "plt.figure() \n",
        "plt.plot(epochs, loss, 'bo', label='Training loss')\n",
        "plt.plot(epochs, val_loss, 'b', label='Validation loss')\n",
        "plt.title('Training and validation loss') \n",
        "plt.legend() \n",
        "plt.show()"
      ],
      "metadata": {
        "colab": {
          "base_uri": "https://localhost:8080/",
          "height": 545
        },
        "id": "jFAEt9zhshUS",
        "outputId": "91dd1555-c45e-4e17-9e25-82ca60efa00d"
      },
      "execution_count": null,
      "outputs": [
        {
          "output_type": "display_data",
          "data": {
            "image/png": "[encoded data removed]",
            "text/plain": [
              "<Figure size 432x288 with 1 Axes>"
            ]
          },
          "metadata": {
            "needs_background": "light"
          }
        },
        {
          "output_type": "display_data",
          "data": {
            "image/png": "[encoded data removed]",
            "text/plain": [
              "<Figure size 432x288 with 1 Axes>"
            ]
          },
          "metadata": {
            "needs_background": "light"
          }
        }
      ]
    },
    {
      "cell_type": "code",
      "source": [
        ""
      ],
      "metadata": {
        "id": "zMOr2031u1Yo"
      },
      "execution_count": null,
      "outputs": []
    }
  ]
}