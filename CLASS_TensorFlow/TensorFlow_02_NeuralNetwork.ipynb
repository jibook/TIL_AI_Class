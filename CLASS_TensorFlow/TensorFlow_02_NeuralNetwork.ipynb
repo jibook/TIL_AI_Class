{
  "nbformat": 4,
  "nbformat_minor": 0,
  "metadata": {
    "colab": {
      "name": "TensorFlow_02_NeuralNetwork.ipynb",
      "provenance": [],
      "collapsed_sections": [],
      "authorship_tag": "ABX9TyM0A6l2VzraDlegJ8N+CpR4",
      "include_colab_link": true
    },
    "kernelspec": {
      "name": "python3",
      "display_name": "Python 3"
    },
    "language_info": {
      "name": "python"
    }
  },
  "cells": [
    {
      "cell_type": "markdown",
      "metadata": {
        "id": "view-in-github",
        "colab_type": "text"
      },
      "source": [
        "<a href=\"https://colab.research.google.com/github/jibook/git-remote/blob/master/TensorFlow_02_NeuralNetwork.ipynb\" target=\"_parent\"><img src=\"https://colab.research.google.com/assets/colab-badge.svg\" alt=\"Open In Colab\"/></a>"
      ]
    },
    {
      "cell_type": "code",
      "execution_count": null,
      "metadata": {
        "id": "3pGnZWQRLgAe"
      },
      "outputs": [],
      "source": [
        "from keras import layers\n",
        "layer = layers.Dense(32, input_shape=(784,))"
      ]
    },
    {
      "cell_type": "code",
      "source": [
        "from keras import models\n",
        "from keras import layers\n",
        "\n",
        "model = models.Sequential()\n",
        "model.add(layers.Dense(32, input_shape=(784,)))\n",
        "model.add(layers.Dense(10))"
      ],
      "metadata": {
        "id": "oIHslPjdtun0"
      },
      "execution_count": null,
      "outputs": []
    },
    {
      "cell_type": "code",
      "source": [
        "# Sequential 클래스 또를 함수형 API를 사용해 모델 정의\n",
        "\n",
        "model = models.Sequential()\n",
        "model.add(layers.Dense(32, activation='relu', input_shape=(784,)))\n",
        "model.add(layers.Dense(10, activation='softmax'))"
      ],
      "metadata": {
        "id": "dOxSLrzk0wC1"
      },
      "execution_count": null,
      "outputs": []
    },
    {
      "cell_type": "code",
      "source": [
        "input_tensor = layers.Input(shape=(784,))\n",
        "x = layers.Dense(32, activation='relu')(input_tensor)\n",
        "output_tensor = layers.Dense(10, activation='softmax')(x)\n",
        "\n",
        "model = models.Model(inputs = input_tensor, outputs = output_tensor)"
      ],
      "metadata": {
        "id": "3hyAFV2Y1MG8"
      },
      "execution_count": null,
      "outputs": []
    },
    {
      "cell_type": "markdown",
      "source": [
        "- 모델 구조가 정의된 후에는 Sequential 모델을 사용했는지 함수형 API를 사용했는지 상관 없음"
      ],
      "metadata": {
        "id": "PfrbgnR72Kk6"
      }
    },
    {
      "cell_type": "code",
      "source": [
        "from tensorflow.keras import optimizers"
      ],
      "metadata": {
        "id": "TeJhvSz32EWr"
      },
      "execution_count": null,
      "outputs": []
    },
    {
      "cell_type": "code",
      "source": [
        "model.compile(optimizer=optimizers.RMSprop(lr=0.001), loss='mse', metrics=['accuracy'])"
      ],
      "metadata": {
        "colab": {
          "base_uri": "https://localhost:8080/"
        },
        "id": "rgxCIqZw2UCT",
        "outputId": "117cfd4c-c1ad-45c8-f261-aa3d1819f271"
      },
      "execution_count": null,
      "outputs": [
        {
          "output_type": "stream",
          "name": "stderr",
          "text": [
            "/usr/local/lib/python3.7/dist-packages/keras/optimizer_v2/rmsprop.py:130: UserWarning: The `lr` argument is deprecated, use `learning_rate` instead.\n",
            "  super(RMSprop, self).__init__(name, **kwargs)\n"
          ]
        }
      ]
    },
    {
      "cell_type": "code",
      "source": [
        "# model.fit(input_tensor, target_tensor, batch_size=128, epochs=10)"
      ],
      "metadata": {
        "colab": {
          "base_uri": "https://localhost:8080/",
          "height": 173
        },
        "id": "CD8105iJ2v4O",
        "outputId": "536a2f78-b232-4d77-8c96-df0cfbd640f6"
      },
      "execution_count": null,
      "outputs": [
        {
          "output_type": "error",
          "ename": "NameError",
          "evalue": "ignored",
          "traceback": [
            "\u001b[0;31m---------------------------------------------------------------------------\u001b[0m",
            "\u001b[0;31mNameError\u001b[0m                                 Traceback (most recent call last)",
            "\u001b[0;32m<ipython-input-8-c17b2397d844>\u001b[0m in \u001b[0;36m<module>\u001b[0;34m()\u001b[0m\n\u001b[0;32m----> 1\u001b[0;31m \u001b[0mmodel\u001b[0m\u001b[0;34m.\u001b[0m\u001b[0mfit\u001b[0m\u001b[0;34m(\u001b[0m\u001b[0minput_tensor\u001b[0m\u001b[0;34m,\u001b[0m \u001b[0mtarget_tensor\u001b[0m\u001b[0;34m,\u001b[0m \u001b[0mbatch_size\u001b[0m\u001b[0;34m=\u001b[0m\u001b[0;36m128\u001b[0m\u001b[0;34m,\u001b[0m \u001b[0mepochs\u001b[0m\u001b[0;34m=\u001b[0m\u001b[0;36m10\u001b[0m\u001b[0;34m)\u001b[0m\u001b[0;34m\u001b[0m\u001b[0;34m\u001b[0m\u001b[0m\n\u001b[0m",
            "\u001b[0;31mNameError\u001b[0m: name 'target_tensor' is not defined"
          ]
        }
      ]
    },
    {
      "cell_type": "markdown",
      "source": [
        "## 영화리뷰 분류 - 이진 분류"
      ],
      "metadata": {
        "id": "ac3wBgkg4S4p"
      }
    },
    {
      "cell_type": "code",
      "source": [
        "from keras.datasets import imdb\n",
        "(train_data, train_labels), (test_data, test_labels) = imdb.load_data(num_words=10000)"
      ],
      "metadata": {
        "colab": {
          "base_uri": "https://localhost:8080/"
        },
        "id": "o3QhmQ4e3srq",
        "outputId": "e328e10e-247d-4c4e-d535-7b92ef2dbcb4"
      },
      "execution_count": null,
      "outputs": [
        {
          "output_type": "stream",
          "name": "stdout",
          "text": [
            "Downloading data from https://storage.googleapis.com/tensorflow/tf-keras-datasets/imdb.npz\n",
            "17465344/17464789 [==============================] - 0s 0us/step\n",
            "17473536/17464789 [==============================] - 0s 0us/step\n"
          ]
        }
      ]
    },
    {
      "cell_type": "code",
      "source": [
        "print(train_data[0])"
      ],
      "metadata": {
        "colab": {
          "base_uri": "https://localhost:8080/"
        },
        "id": "Gl7ITZk44yiR",
        "outputId": "e862ed1e-a39f-4571-c2db-6753fb48cfe9"
      },
      "execution_count": null,
      "outputs": [
        {
          "output_type": "stream",
          "name": "stdout",
          "text": [
            "[1, 14, 22, 16, 43, 530, 973, 1622, 1385, 65, 458, 4468, 66, 3941, 4, 173, 36, 256, 5, 25, 100, 43, 838, 112, 50, 670, 2, 9, 35, 480, 284, 5, 150, 4, 172, 112, 167, 2, 336, 385, 39, 4, 172, 4536, 1111, 17, 546, 38, 13, 447, 4, 192, 50, 16, 6, 147, 2025, 19, 14, 22, 4, 1920, 4613, 469, 4, 22, 71, 87, 12, 16, 43, 530, 38, 76, 15, 13, 1247, 4, 22, 17, 515, 17, 12, 16, 626, 18, 2, 5, 62, 386, 12, 8, 316, 8, 106, 5, 4, 2223, 5244, 16, 480, 66, 3785, 33, 4, 130, 12, 16, 38, 619, 5, 25, 124, 51, 36, 135, 48, 25, 1415, 33, 6, 22, 12, 215, 28, 77, 52, 5, 14, 407, 16, 82, 2, 8, 4, 107, 117, 5952, 15, 256, 4, 2, 7, 3766, 5, 723, 36, 71, 43, 530, 476, 26, 400, 317, 46, 7, 4, 2, 1029, 13, 104, 88, 4, 381, 15, 297, 98, 32, 2071, 56, 26, 141, 6, 194, 7486, 18, 4, 226, 22, 21, 134, 476, 26, 480, 5, 144, 30, 5535, 18, 51, 36, 28, 224, 92, 25, 104, 4, 226, 65, 16, 38, 1334, 88, 12, 16, 283, 5, 16, 4472, 113, 103, 32, 15, 16, 5345, 19, 178, 32]\n"
          ]
        }
      ]
    },
    {
      "cell_type": "code",
      "source": [
        "print(train_labels[0])"
      ],
      "metadata": {
        "colab": {
          "base_uri": "https://localhost:8080/"
        },
        "id": "791juQkY405R",
        "outputId": "5792346d-1137-446e-801a-6a8f67d56ea0"
      },
      "execution_count": null,
      "outputs": [
        {
          "output_type": "stream",
          "name": "stdout",
          "text": [
            "1\n"
          ]
        }
      ]
    },
    {
      "cell_type": "code",
      "source": [
        "from keras_preprocessing import sequence\n",
        "print(max([max(sequence) for sequence in train_data]))"
      ],
      "metadata": {
        "colab": {
          "base_uri": "https://localhost:8080/"
        },
        "id": "Hpt4idyB407j",
        "outputId": "386e434a-ef0a-4f37-f6ee-fb3e60e9270a"
      },
      "execution_count": null,
      "outputs": [
        {
          "output_type": "stream",
          "name": "stdout",
          "text": [
            "9999\n"
          ]
        }
      ]
    },
    {
      "cell_type": "code",
      "source": [
        "from keras.backend import reverse\n",
        "word_index = imdb.get_word_index()\n",
        "reverse_word_index = dict([(value, key) for (key, value) in word_index.items()])\n",
        "decoded_review = ' '.join([reverse_word_index.get(i-3, '?') for i in train_data[0]])\n",
        "print(decoded_review)"
      ],
      "metadata": {
        "colab": {
          "base_uri": "https://localhost:8080/"
        },
        "id": "2msOnDNG4083",
        "outputId": "11f0f9c7-01e5-492e-ac71-f6597f83fa42"
      },
      "execution_count": null,
      "outputs": [
        {
          "output_type": "stream",
          "name": "stdout",
          "text": [
            "Downloading data from https://storage.googleapis.com/tensorflow/tf-keras-datasets/imdb_word_index.json\n",
            "1646592/1641221 [==============================] - 0s 0us/step\n",
            "1654784/1641221 [==============================] - 0s 0us/step\n",
            "? this film was just brilliant casting location scenery story direction everyone's really suited the part they played and you could just imagine being there robert ? is an amazing actor and now the same being director ? father came from the same scottish island as myself so i loved the fact there was a real connection with this film the witty remarks throughout the film were great it was just brilliant so much that i bought the film as soon as it was released for ? and would recommend it to everyone to watch and the fly fishing was amazing really cried at the end it was so sad and you know what they say if you cry at a film it must have been good and this definitely was also ? to the two little boy's that played the ? of norman and paul they were just brilliant children are often left out of the ? list i think because the stars that play them all grown up are such a big profile for the whole film but these children are amazing and should be praised for what they have done don't you think the whole story was so lovely because it was true and was someone's life after all that was shared with us all\n"
          ]
        }
      ]
    },
    {
      "cell_type": "code",
      "source": [
        "import numpy as np\n",
        "\n",
        "def vectorize_sequences(seqs, dim=10000):\n",
        "  results = np.zeros((len(seqs), dim))\n",
        "  for i, seq in enumerate(seqs):\n",
        "    results[i,seq] = 1.\n",
        "  return results\n",
        "\n",
        "x_train = vectorize_sequences(train_data)\n",
        "x_test = vectorize_sequences(test_data)"
      ],
      "metadata": {
        "id": "xZF7mTjR40-e"
      },
      "execution_count": null,
      "outputs": []
    },
    {
      "cell_type": "code",
      "source": [
        "print(x_train[0])"
      ],
      "metadata": {
        "colab": {
          "base_uri": "https://localhost:8080/"
        },
        "id": "H94yFWah41C5",
        "outputId": "89db44be-8323-4784-a798-f9e459273c0e"
      },
      "execution_count": null,
      "outputs": [
        {
          "output_type": "stream",
          "name": "stdout",
          "text": [
            "[0. 1. 1. ... 0. 0. 0.]\n"
          ]
        }
      ]
    },
    {
      "cell_type": "code",
      "source": [
        "y_train = np.asarray(train_labels).astype('float32')\n",
        "y_test = np.asarray(test_labels).astype('float32')"
      ],
      "metadata": {
        "id": "OvnQXeBB41FR"
      },
      "execution_count": null,
      "outputs": []
    },
    {
      "cell_type": "code",
      "source": [
        "from keras import models\n",
        "from keras import layers\n",
        "\n",
        "model = models.Sequential()\n",
        "model.add(layers.Dense(16, activation='relu', input_shape=(10000,)))\n",
        "model.add(layers.Dense(16, activation='relu'))\n",
        "model.add(layers.Dense(1, activation='sigmoid'))"
      ],
      "metadata": {
        "id": "_QSqqac_6iH7"
      },
      "execution_count": null,
      "outputs": []
    },
    {
      "cell_type": "code",
      "source": [
        "model.compile(optimizer='rmsprop', loss='binary_crossentropy', metrics=['accuracy'])"
      ],
      "metadata": {
        "id": "XKsXDSCl_ajG"
      },
      "execution_count": null,
      "outputs": []
    },
    {
      "cell_type": "code",
      "source": [
        "from tensorflow.keras import optimizers\n",
        "\n",
        "model.compile(optimizer=optimizers.RMSprop(lr=0.001), loss='binary_crossentropy', metrics=['accuracy'])"
      ],
      "metadata": {
        "colab": {
          "base_uri": "https://localhost:8080/"
        },
        "id": "WyQmHUFL_sHF",
        "outputId": "4b06739c-2b6c-4758-c8c6-ef364d015e70"
      },
      "execution_count": null,
      "outputs": [
        {
          "output_type": "stream",
          "name": "stderr",
          "text": [
            "/usr/local/lib/python3.7/dist-packages/keras/optimizer_v2/rmsprop.py:130: UserWarning: The `lr` argument is deprecated, use `learning_rate` instead.\n",
            "  super(RMSprop, self).__init__(name, **kwargs)\n"
          ]
        }
      ]
    },
    {
      "cell_type": "code",
      "source": [
        "from keras import losses\n",
        "from keras import metrics\n",
        "\n",
        "model.compile(optimizer=optimizers.RMSprop(lr=0.001), loss=losses.binary_crossentropy, metrics=[metrics.binary_accuracy])"
      ],
      "metadata": {
        "colab": {
          "base_uri": "https://localhost:8080/"
        },
        "id": "GEPJf1-J_vPz",
        "outputId": "599292f2-c12d-41dd-8701-d6b7478a0be3"
      },
      "execution_count": null,
      "outputs": [
        {
          "output_type": "stream",
          "name": "stderr",
          "text": [
            "/usr/local/lib/python3.7/dist-packages/keras/optimizer_v2/rmsprop.py:130: UserWarning: The `lr` argument is deprecated, use `learning_rate` instead.\n",
            "  super(RMSprop, self).__init__(name, **kwargs)\n"
          ]
        }
      ]
    },
    {
      "cell_type": "code",
      "source": [
        "from functools import partial\n",
        "x_val = x_train[:10000]\n",
        "partial_x_train = x_train[10000:]\n",
        "y_val = y_train[:10000]\n",
        "partial_y_train = y_train[10000:]"
      ],
      "metadata": {
        "id": "MO9Snr55AIdK"
      },
      "execution_count": null,
      "outputs": []
    },
    {
      "cell_type": "code",
      "source": [
        "model.compile(optimizer='rmsprop', loss='binary_crossentropy', metrics=['acc'])\n",
        "history = model.fit(partial_x_train, partial_y_train, batch_size=512, epochs=50, validation_data=(x_val, y_val))"
      ],
      "metadata": {
        "colab": {
          "base_uri": "https://localhost:8080/"
        },
        "id": "I-jRAuEyAKzb",
        "outputId": "b0393dd3-5411-47c8-b9fe-35581c1be28e"
      },
      "execution_count": null,
      "outputs": [
        {
          "output_type": "stream",
          "name": "stdout",
          "text": [
            "Epoch 1/50\n",
            "30/30 [==============================] - 2s 50ms/step - loss: 0.5163 - acc: 0.7898 - val_loss: 0.4457 - val_acc: 0.8073\n",
            "Epoch 2/50\n",
            "30/30 [==============================] - 1s 36ms/step - loss: 0.3127 - acc: 0.9004 - val_loss: 0.3284 - val_acc: 0.8693\n",
            "Epoch 3/50\n",
            "30/30 [==============================] - 1s 37ms/step - loss: 0.2321 - acc: 0.9236 - val_loss: 0.2865 - val_acc: 0.8881\n",
            "Epoch 4/50\n",
            "30/30 [==============================] - 1s 36ms/step - loss: 0.1837 - acc: 0.9404 - val_loss: 0.3160 - val_acc: 0.8708\n",
            "Epoch 5/50\n",
            "30/30 [==============================] - 1s 36ms/step - loss: 0.1515 - acc: 0.9514 - val_loss: 0.2760 - val_acc: 0.8901\n",
            "Epoch 6/50\n",
            "30/30 [==============================] - 1s 36ms/step - loss: 0.1271 - acc: 0.9606 - val_loss: 0.2974 - val_acc: 0.8858\n",
            "Epoch 7/50\n",
            "30/30 [==============================] - 1s 36ms/step - loss: 0.1053 - acc: 0.9683 - val_loss: 0.3055 - val_acc: 0.8808\n",
            "Epoch 8/50\n",
            "30/30 [==============================] - 1s 36ms/step - loss: 0.0874 - acc: 0.9748 - val_loss: 0.3148 - val_acc: 0.8842\n",
            "Epoch 9/50\n",
            "30/30 [==============================] - 1s 36ms/step - loss: 0.0704 - acc: 0.9808 - val_loss: 0.3447 - val_acc: 0.8825\n",
            "Epoch 10/50\n",
            "30/30 [==============================] - 1s 37ms/step - loss: 0.0569 - acc: 0.9864 - val_loss: 0.3701 - val_acc: 0.8745\n",
            "Epoch 11/50\n",
            "30/30 [==============================] - 1s 37ms/step - loss: 0.0481 - acc: 0.9881 - val_loss: 0.3899 - val_acc: 0.8756\n",
            "Epoch 12/50\n",
            "30/30 [==============================] - 1s 38ms/step - loss: 0.0381 - acc: 0.9916 - val_loss: 0.4300 - val_acc: 0.8697\n",
            "Epoch 13/50\n",
            "30/30 [==============================] - 1s 38ms/step - loss: 0.0293 - acc: 0.9947 - val_loss: 0.4541 - val_acc: 0.8763\n",
            "Epoch 14/50\n",
            "30/30 [==============================] - 1s 38ms/step - loss: 0.0230 - acc: 0.9963 - val_loss: 0.4753 - val_acc: 0.8758\n",
            "Epoch 15/50\n",
            "30/30 [==============================] - 1s 40ms/step - loss: 0.0192 - acc: 0.9974 - val_loss: 0.5137 - val_acc: 0.8739\n",
            "Epoch 16/50\n",
            "30/30 [==============================] - 1s 38ms/step - loss: 0.0133 - acc: 0.9985 - val_loss: 0.5452 - val_acc: 0.8705\n",
            "Epoch 17/50\n",
            "30/30 [==============================] - 1s 38ms/step - loss: 0.0114 - acc: 0.9987 - val_loss: 0.5780 - val_acc: 0.8699\n",
            "Epoch 18/50\n",
            "30/30 [==============================] - 1s 40ms/step - loss: 0.0074 - acc: 0.9997 - val_loss: 0.6425 - val_acc: 0.8607\n",
            "Epoch 19/50\n",
            "30/30 [==============================] - 1s 38ms/step - loss: 0.0077 - acc: 0.9990 - val_loss: 0.6550 - val_acc: 0.8641\n",
            "Epoch 20/50\n",
            "30/30 [==============================] - 1s 37ms/step - loss: 0.0037 - acc: 0.9999 - val_loss: 0.7057 - val_acc: 0.8610\n",
            "Epoch 21/50\n",
            "30/30 [==============================] - 1s 38ms/step - loss: 0.0050 - acc: 0.9995 - val_loss: 0.7167 - val_acc: 0.8664\n",
            "Epoch 22/50\n",
            "30/30 [==============================] - 1s 38ms/step - loss: 0.0022 - acc: 0.9999 - val_loss: 0.7549 - val_acc: 0.8675\n",
            "Epoch 23/50\n",
            "30/30 [==============================] - 1s 38ms/step - loss: 0.0059 - acc: 0.9984 - val_loss: 0.7891 - val_acc: 0.8645\n",
            "Epoch 24/50\n",
            "30/30 [==============================] - 1s 37ms/step - loss: 0.0011 - acc: 0.9999 - val_loss: 0.8102 - val_acc: 0.8627\n",
            "Epoch 25/50\n",
            "30/30 [==============================] - 1s 37ms/step - loss: 0.0012 - acc: 0.9998 - val_loss: 0.9615 - val_acc: 0.8551\n",
            "Epoch 26/50\n",
            "30/30 [==============================] - 1s 40ms/step - loss: 9.5645e-04 - acc: 0.9999 - val_loss: 0.8771 - val_acc: 0.8631\n",
            "Epoch 27/50\n",
            "30/30 [==============================] - 1s 38ms/step - loss: 5.5834e-04 - acc: 1.0000 - val_loss: 0.9740 - val_acc: 0.8591\n",
            "Epoch 28/50\n",
            "30/30 [==============================] - 1s 38ms/step - loss: 0.0017 - acc: 0.9996 - val_loss: 0.9386 - val_acc: 0.8610\n",
            "Epoch 29/50\n",
            "30/30 [==============================] - 1s 37ms/step - loss: 3.3275e-04 - acc: 1.0000 - val_loss: 0.9712 - val_acc: 0.8615\n",
            "Epoch 30/50\n",
            "30/30 [==============================] - 1s 41ms/step - loss: 0.0021 - acc: 0.9992 - val_loss: 1.0092 - val_acc: 0.8608\n",
            "Epoch 31/50\n",
            "30/30 [==============================] - 1s 39ms/step - loss: 1.9208e-04 - acc: 1.0000 - val_loss: 1.0253 - val_acc: 0.8596\n",
            "Epoch 32/50\n",
            "30/30 [==============================] - 1s 38ms/step - loss: 1.6594e-04 - acc: 1.0000 - val_loss: 1.0546 - val_acc: 0.8592\n",
            "Epoch 33/50\n",
            "30/30 [==============================] - 1s 37ms/step - loss: 0.0013 - acc: 0.9997 - val_loss: 1.0897 - val_acc: 0.8592\n",
            "Epoch 34/50\n",
            "30/30 [==============================] - 1s 37ms/step - loss: 9.7814e-05 - acc: 1.0000 - val_loss: 1.1111 - val_acc: 0.8587\n",
            "Epoch 35/50\n",
            "30/30 [==============================] - 1s 40ms/step - loss: 8.1913e-05 - acc: 1.0000 - val_loss: 1.1349 - val_acc: 0.8589\n",
            "Epoch 36/50\n",
            "30/30 [==============================] - 1s 37ms/step - loss: 2.9850e-04 - acc: 0.9999 - val_loss: 1.2095 - val_acc: 0.8585\n",
            "Epoch 37/50\n",
            "30/30 [==============================] - 1s 38ms/step - loss: 6.1487e-05 - acc: 1.0000 - val_loss: 1.1980 - val_acc: 0.8573\n",
            "Epoch 38/50\n",
            "30/30 [==============================] - 1s 37ms/step - loss: 4.0287e-05 - acc: 1.0000 - val_loss: 1.2240 - val_acc: 0.8582\n",
            "Epoch 39/50\n",
            "30/30 [==============================] - 1s 37ms/step - loss: 3.1983e-05 - acc: 1.0000 - val_loss: 1.2619 - val_acc: 0.8586\n",
            "Epoch 40/50\n",
            "30/30 [==============================] - 1s 40ms/step - loss: 0.0019 - acc: 0.9994 - val_loss: 1.2970 - val_acc: 0.8579\n",
            "Epoch 41/50\n",
            "30/30 [==============================] - 1s 46ms/step - loss: 2.1088e-05 - acc: 1.0000 - val_loss: 1.3096 - val_acc: 0.8577\n",
            "Epoch 42/50\n",
            "30/30 [==============================] - 2s 63ms/step - loss: 1.6927e-05 - acc: 1.0000 - val_loss: 1.3244 - val_acc: 0.8579\n",
            "Epoch 43/50\n",
            "30/30 [==============================] - 2s 71ms/step - loss: 1.4393e-05 - acc: 1.0000 - val_loss: 1.3473 - val_acc: 0.8578\n",
            "Epoch 44/50\n",
            "30/30 [==============================] - 2s 81ms/step - loss: 1.1336e-05 - acc: 1.0000 - val_loss: 1.3973 - val_acc: 0.8577\n",
            "Epoch 45/50\n",
            "30/30 [==============================] - 2s 61ms/step - loss: 0.0019 - acc: 0.9995 - val_loss: 1.4433 - val_acc: 0.8583\n",
            "Epoch 46/50\n",
            "30/30 [==============================] - 2s 58ms/step - loss: 8.7793e-06 - acc: 1.0000 - val_loss: 1.4490 - val_acc: 0.8564\n",
            "Epoch 47/50\n",
            "30/30 [==============================] - 2s 61ms/step - loss: 6.5109e-06 - acc: 1.0000 - val_loss: 1.4551 - val_acc: 0.8565\n",
            "Epoch 48/50\n",
            "30/30 [==============================] - 2s 54ms/step - loss: 5.3759e-06 - acc: 1.0000 - val_loss: 1.4655 - val_acc: 0.8572\n",
            "Epoch 49/50\n",
            "30/30 [==============================] - 2s 69ms/step - loss: 4.4995e-06 - acc: 1.0000 - val_loss: 1.4890 - val_acc: 0.8581\n",
            "Epoch 50/50\n",
            "30/30 [==============================] - 1s 49ms/step - loss: 2.0122e-04 - acc: 0.9999 - val_loss: 1.5655 - val_acc: 0.8525\n"
          ]
        }
      ]
    },
    {
      "cell_type": "code",
      "source": [
        "history_dict = history.history\n",
        "history_dict.keys()"
      ],
      "metadata": {
        "colab": {
          "base_uri": "https://localhost:8080/"
        },
        "id": "1UDZf6kDAK1l",
        "outputId": "16ebf189-b149-4640-bc87-0231c3fdd768"
      },
      "execution_count": null,
      "outputs": [
        {
          "output_type": "execute_result",
          "data": {
            "text/plain": [
              "dict_keys(['loss', 'acc', 'val_loss', 'val_acc'])"
            ]
          },
          "metadata": {},
          "execution_count": 23
        }
      ]
    },
    {
      "cell_type": "code",
      "source": [
        "import matplotlib.pyplot as plt\n",
        "\n",
        "history_dict = history.history\n",
        "loss = history_dict['loss']\n",
        "val_loss = history_dict['val_loss']\n",
        "\n",
        "epochs = range(1, len(loss)+1)\n",
        "\n",
        "plt.figure(figsize=(16, 12))\n",
        "plt.plot(epochs, loss, 'bo', label='Training loss')\n",
        "plt.plot(epochs, val_loss, 'b', label='Validation loss')\n",
        "plt.title('Training and Validation loss')\n",
        "plt.xlabel('Epochs')\n",
        "plt.ylabel('loss')\n",
        "plt.legend()\n",
        "plt.show()"
      ],
      "metadata": {
        "colab": {
          "base_uri": "https://localhost:8080/",
          "height": 730
        },
        "id": "FsNMNsi_AK40",
        "outputId": "b2f87e41-27f7-4ad2-cf8a-ba6a3dc59475"
      },
      "execution_count": null,
      "outputs": [
        {
          "output_type": "display_data",
          "data": {
            "image/png": "[encoded data removed]",
            "text/plain": [
              "<Figure size 1152x864 with 1 Axes>"
            ]
          },
          "metadata": {
            "needs_background": "light"
          }
        }
      ]
    },
    {
      "cell_type": "code",
      "source": [
        "plt.clf()\n",
        "acc = history_dict['acc']\n",
        "val_acc = history_dict['val_acc']\n",
        "\n",
        "plt.figure(figsize=(16, 12))\n",
        "plt.plot(epochs, acc, 'bo', label='Training acc')\n",
        "plt.plot(epochs, val_acc, 'b', label='Validation acc')\n",
        "plt.title('Training and Validation accuracy')\n",
        "plt.xlabel('Epochs')\n",
        "plt.ylabel('Accuracy')\n",
        "plt.legend()\n",
        "plt.show()"
      ],
      "metadata": {
        "colab": {
          "base_uri": "https://localhost:8080/",
          "height": 748
        },
        "id": "2wEkni5fAK7b",
        "outputId": "34a572af-d2f1-44e3-f981-dd0763560347"
      },
      "execution_count": null,
      "outputs": [
        {
          "output_type": "display_data",
          "data": {
            "text/plain": [
              "<Figure size 432x288 with 0 Axes>"
            ]
          },
          "metadata": {}
        },
        {
          "output_type": "display_data",
          "data": {
            "image/png": "[encoded data removed]",
            "text/plain": [
              "<Figure size 1152x864 with 1 Axes>"
            ]
          },
          "metadata": {
            "needs_background": "light"
          }
        }
      ]
    },
    {
      "cell_type": "code",
      "source": [
        "# ppt 36부터\n",
        "\n",
        "model = models.Sequential()\n",
        "model.add(layers.Dense(16, activation='relu', input_shape=(10000,)))\n",
        "model.add(layers.Dense(16, activation='relu'))\n",
        "model.add(layers.Dense(1, activation='sigmoid'))\n",
        "\n",
        "model.compile(optimizer='rmsprop', loss='binary_crossentropy', metrics=['accuracy'])\n",
        "model.fit(x_train, y_train, epochs=4, batch_size=512)\n",
        "results = model.evaluate(x_test, y_test)\n",
        "print(results)"
      ],
      "metadata": {
        "colab": {
          "base_uri": "https://localhost:8080/"
        },
        "id": "kQ1pg-YEAK_6",
        "outputId": "97773891-9394-40ce-c619-46389e5ab3c0"
      },
      "execution_count": null,
      "outputs": [
        {
          "output_type": "stream",
          "name": "stdout",
          "text": [
            "Epoch 1/4\n",
            "49/49 [==============================] - 2s 29ms/step - loss: 0.4563 - accuracy: 0.8234\n",
            "Epoch 2/4\n",
            "49/49 [==============================] - 1s 29ms/step - loss: 0.2576 - accuracy: 0.9091\n",
            "Epoch 3/4\n",
            "49/49 [==============================] - 1s 29ms/step - loss: 0.1989 - accuracy: 0.9295\n",
            "Epoch 4/4\n",
            "49/49 [==============================] - 1s 28ms/step - loss: 0.1670 - accuracy: 0.9422\n",
            "782/782 [==============================] - 2s 2ms/step - loss: 0.2935 - accuracy: 0.8836\n",
            "[0.2935449779033661, 0.8835600018501282]\n"
          ]
        }
      ]
    },
    {
      "cell_type": "code",
      "source": [
        "model.predict(x_test)"
      ],
      "metadata": {
        "colab": {
          "base_uri": "https://localhost:8080/"
        },
        "id": "-nLGYQEK1R_a",
        "outputId": "ca1ce065-451c-46dd-c613-5b5805bd3a04"
      },
      "execution_count": null,
      "outputs": [
        {
          "output_type": "execute_result",
          "data": {
            "text/plain": [
              "array([[0.24819246],\n",
              "       [0.9996617 ],\n",
              "       [0.94499195],\n",
              "       ...,\n",
              "       [0.13469592],\n",
              "       [0.08084577],\n",
              "       [0.6106577 ]], dtype=float32)"
            ]
          },
          "metadata": {},
          "execution_count": 27
        }
      ]
    },
    {
      "cell_type": "markdown",
      "source": [
        "## 뉴스 기사 분류 _ 다중분류"
      ],
      "metadata": {
        "id": "KTPr9k3I7BqG"
      }
    },
    {
      "cell_type": "code",
      "source": [
        "from keras.datasets import reuters\n",
        "\n",
        "(train_data, train_labels), (test_data, test_labels) = reuters.load_data(num_words=10000)"
      ],
      "metadata": {
        "colab": {
          "base_uri": "https://localhost:8080/"
        },
        "id": "DquGEGYh1u1L",
        "outputId": "221a8ec2-112c-4587-e22a-6ea6e21bad31"
      },
      "execution_count": null,
      "outputs": [
        {
          "output_type": "stream",
          "name": "stdout",
          "text": [
            "Downloading data from https://storage.googleapis.com/tensorflow/tf-keras-datasets/reuters.npz\n",
            "2113536/2110848 [==============================] - 0s 0us/step\n",
            "2121728/2110848 [==============================] - 0s 0us/step\n"
          ]
        }
      ]
    },
    {
      "cell_type": "code",
      "source": [
        "print(len(train_data))\n",
        "print(len(test_data))"
      ],
      "metadata": {
        "colab": {
          "base_uri": "https://localhost:8080/"
        },
        "id": "CDqrW9ct1u39",
        "outputId": "5575bfc9-0e10-457e-bb65-e6c9d05795e0"
      },
      "execution_count": null,
      "outputs": [
        {
          "output_type": "stream",
          "name": "stdout",
          "text": [
            "8982\n",
            "2246\n"
          ]
        }
      ]
    },
    {
      "cell_type": "code",
      "source": [
        "print(train_data[0])"
      ],
      "metadata": {
        "colab": {
          "base_uri": "https://localhost:8080/"
        },
        "id": "AC9ot9lO1u62",
        "outputId": "7fad831a-782e-4943-a955-bf8d6aa42d7d"
      },
      "execution_count": null,
      "outputs": [
        {
          "output_type": "stream",
          "name": "stdout",
          "text": [
            "[1, 2, 2, 8, 43, 10, 447, 5, 25, 207, 270, 5, 3095, 111, 16, 369, 186, 90, 67, 7, 89, 5, 19, 102, 6, 19, 124, 15, 90, 67, 84, 22, 482, 26, 7, 48, 4, 49, 8, 864, 39, 209, 154, 6, 151, 6, 83, 11, 15, 22, 155, 11, 15, 7, 48, 9, 4579, 1005, 504, 6, 258, 6, 272, 11, 15, 22, 134, 44, 11, 15, 16, 8, 197, 1245, 90, 67, 52, 29, 209, 30, 32, 132, 6, 109, 15, 17, 12]\n"
          ]
        }
      ]
    },
    {
      "cell_type": "code",
      "source": [
        "print(train_labels[0])"
      ],
      "metadata": {
        "colab": {
          "base_uri": "https://localhost:8080/"
        },
        "id": "us4AbAjf1u9F",
        "outputId": "338ffbcc-5ab6-49cb-ef33-186071c0464f"
      },
      "execution_count": null,
      "outputs": [
        {
          "output_type": "stream",
          "name": "stdout",
          "text": [
            "3\n"
          ]
        }
      ]
    },
    {
      "cell_type": "code",
      "source": [
        ""
      ],
      "metadata": {
        "id": "_vLQMWcc1vAH"
      },
      "execution_count": null,
      "outputs": []
    },
    {
      "cell_type": "code",
      "source": [
        ""
      ],
      "metadata": {
        "id": "Xrc1IiWR1vCM"
      },
      "execution_count": null,
      "outputs": []
    }
  ]
}