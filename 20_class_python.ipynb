{
  "nbformat": 4,
  "nbformat_minor": 0,
  "metadata": {
    "colab": {
      "name": "20_class_python.ipynb",
      "provenance": [],
      "collapsed_sections": [],
      "authorship_tag": "ABX9TyPwHPPOcnfA0kvd51JopH0S",
      "include_colab_link": true
    },
    "kernelspec": {
      "name": "python3",
      "display_name": "Python 3"
    },
    "language_info": {
      "name": "python"
    }
  },
  "cells": [
    {
      "cell_type": "markdown",
      "metadata": {
        "id": "view-in-github",
        "colab_type": "text"
      },
      "source": [
        "<a href=\"https://colab.research.google.com/github/jibook/git-remote/blob/master/20_class_python.ipynb\" target=\"_parent\"><img src=\"https://colab.research.google.com/assets/colab-badge.svg\" alt=\"Open In Colab\"/></a>"
      ]
    },
    {
      "cell_type": "code",
      "execution_count": null,
      "metadata": {
        "colab": {
          "base_uri": "https://localhost:8080/"
        },
        "id": "DTRPCewrBPpA",
        "outputId": "cd43b893-3555-4712-e556-fc8df5683846"
      },
      "outputs": [
        {
          "output_type": "stream",
          "name": "stdout",
          "text": [
            "11\n",
            "22\n",
            "33\n"
          ]
        }
      ],
      "source": [
        "nums = [11, 22, 33]\n",
        "it =iter(nums)\n",
        "\n",
        "while True:\n",
        "  try:\n",
        "    num = next(it)\n",
        "  except StopIteration:\n",
        "    break\n",
        "  print(num)"
      ]
    },
    {
      "cell_type": "code",
      "source": [
        "# Generator 사용한 경우\n",
        "def sep_gen(data):\n",
        "  for idx in range(0, len(data), 2):\n",
        "    yield data[idx:idx+2]\n",
        "\n",
        "solar_time = sep_gen(\"입춘우수경칩푼분청명곡우입하소만망종하지소서대서\")\n",
        "for k in solar_time:\n",
        "  print(k, end=', ')    "
      ],
      "metadata": {
        "colab": {
          "base_uri": "https://localhost:8080/"
        },
        "id": "prUqFiAdCZk5",
        "outputId": "a05b4b5d-14e1-488f-c577-d280bb0eca6a"
      },
      "execution_count": null,
      "outputs": [
        {
          "output_type": "stream",
          "name": "stdout",
          "text": [
            "입춘, 우수, 경칩, 푼분, 청명, 곡우, 입하, 소만, 망종, 하지, 소서, 대서, "
          ]
        }
      ]
    },
    {
      "cell_type": "code",
      "source": [
        "# Generator 사용하지 않은 경우\n",
        "\n",
        "data = \"입춘우수경칩푼분청명곡우입하소만망종하지소서대서\"\n",
        "\n",
        "for k in (data[idx: idx+2] for idx in range(0, len(data), 2)):\n",
        "  print(k, end=', ')   "
      ],
      "metadata": {
        "colab": {
          "base_uri": "https://localhost:8080/"
        },
        "id": "vQLhdWW1C-nb",
        "outputId": "b740ddeb-055c-45c3-b383-69fb5f0a3b70"
      },
      "execution_count": null,
      "outputs": [
        {
          "output_type": "stream",
          "name": "stdout",
          "text": [
            "입춘, 우수, 경칩, 푼분, 청명, 곡우, 입하, 소만, 망종, 하지, 소서, 대서, "
          ]
        }
      ]
    },
    {
      "cell_type": "code",
      "source": [
        "def add(a, b):\n",
        "  print(a+b)\n",
        "\n",
        "plus = add\n",
        "plus(3,2)"
      ],
      "metadata": {
        "colab": {
          "base_uri": "https://localhost:8080/"
        },
        "id": "fJSmKEkdEWxr",
        "outputId": "7c8ba9e7-4e1f-47f3-e68f-c9db38ef202b"
      },
      "execution_count": null,
      "outputs": [
        {
          "output_type": "stream",
          "name": "stdout",
          "text": [
            "5\n"
          ]
        }
      ]
    },
    {
      "cell_type": "code",
      "source": [
        "def calc_sum(n):\n",
        "  def add(a,b):\n",
        "    return a+b\n",
        "  sum = 0\n",
        "  for i in range(n+1):\n",
        "    sum = add(sum, i)\n",
        "  return sum\n",
        "\n",
        "print(\"~100 = \", calc_sum(100))"
      ],
      "metadata": {
        "colab": {
          "base_uri": "https://localhost:8080/"
        },
        "id": "ZVe1TKENEpFA",
        "outputId": "56c6c7fa-2c68-4048-9635-b47c8554c401"
      },
      "execution_count": null,
      "outputs": [
        {
          "output_type": "stream",
          "name": "stdout",
          "text": [
            "~100 =  5050\n"
          ]
        }
      ]
    },
    {
      "cell_type": "code",
      "source": [
        "def inner():\n",
        "  print(\"결과 출력\")\n",
        "\n",
        "def outer(func):\n",
        "  print('-'*20)\n",
        "  func()\n",
        "  print('-'*20)\n",
        "\n",
        "outer(inner)"
      ],
      "metadata": {
        "colab": {
          "base_uri": "https://localhost:8080/"
        },
        "id": "y5uCDFIdFI5x",
        "outputId": "8b171c4f-e33d-4a81-a8c1-2a80b4dd7546"
      },
      "execution_count": null,
      "outputs": [
        {
          "output_type": "stream",
          "name": "stdout",
          "text": [
            "--------------------\n",
            "결과 출력\n",
            "--------------------\n"
          ]
        }
      ]
    },
    {
      "cell_type": "code",
      "source": [
        "def inner():\n",
        "  print('이지현 짱')\n",
        "\n",
        "def outer(func):\n",
        "  def wrapper():\n",
        "    print('-'*20)\n",
        "    func()\n",
        "    print('-'*20)\n",
        "  return wrapper\n",
        "\n",
        "inner = outer(inner)\n",
        "inner()"
      ],
      "metadata": {
        "colab": {
          "base_uri": "https://localhost:8080/"
        },
        "id": "mYG_JyAeFp3p",
        "outputId": "4e1bd049-946e-4968-dc4b-ec8623b01a5b"
      },
      "execution_count": null,
      "outputs": [
        {
          "output_type": "stream",
          "name": "stdout",
          "text": [
            "--------------------\n",
            "이지현 짱\n",
            "--------------------\n"
          ]
        }
      ]
    },
    {
      "cell_type": "code",
      "source": [
        "def para(func):\n",
        "  def wrapper():\n",
        "    return \"<p>\"+str(func())+\"</p>\"\n",
        "  return wrapper\n",
        "\n",
        "@para\n",
        "def outname():\n",
        "  return 'James Bond'\n",
        "\n",
        "@para\n",
        "def outage():\n",
        "  return '27'\n",
        "\n",
        "print(outname())\n",
        "print(outage())"
      ],
      "metadata": {
        "colab": {
          "base_uri": "https://localhost:8080/"
        },
        "id": "zSpZkKigGKbL",
        "outputId": "774f9cbf-ac86-4b2e-935c-81a1c1d0ef26"
      },
      "execution_count": null,
      "outputs": [
        {
          "output_type": "stream",
          "name": "stdout",
          "text": [
            "<p>James Bond</p>\n",
            "<p>27</p>\n"
          ]
        }
      ]
    },
    {
      "cell_type": "code",
      "source": [
        "def para(func):\n",
        "  def wrap(*args, **kwargs):\n",
        "    return \"<p>\"+str(func(*args, **kwargs))+\"</p>\"\n",
        "  return wrap\n",
        "\n",
        "@para\n",
        "def outname(name):\n",
        "  return 'Name' + name\n",
        "\n",
        "@para\n",
        "def outage(age):\n",
        "  return 'Age' + str(age)\n",
        "\n",
        "print(outname('James Bond'))\n",
        "print(outname.__name__)\n",
        "print(outage(27))\n",
        "print(outage.__name__)"
      ],
      "metadata": {
        "colab": {
          "base_uri": "https://localhost:8080/"
        },
        "id": "hsqcSGWXIAcn",
        "outputId": "2e174dc8-de32-48c2-8651-1b0fdbc8aa6f"
      },
      "execution_count": null,
      "outputs": [
        {
          "output_type": "stream",
          "name": "stdout",
          "text": [
            "<p>NameJames Bond</p>\n",
            "wrap\n",
            "<p>Age27</p>\n",
            "wrap\n"
          ]
        }
      ]
    },
    {
      "cell_type": "code",
      "source": [
        ""
      ],
      "metadata": {
        "id": "UYXJP2fUIcc9"
      },
      "execution_count": null,
      "outputs": []
    }
  ]
}