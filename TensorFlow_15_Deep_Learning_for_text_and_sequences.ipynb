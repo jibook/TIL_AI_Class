{
  "nbformat": 4,
  "nbformat_minor": 0,
  "metadata": {
    "colab": {
      "name": "TensorFlow_15_Deep Learning for text and  sequences.ipynb",
      "provenance": [],
      "collapsed_sections": [],
      "authorship_tag": "ABX9TyN2nHYt+nBGvRmRuUQEzQVI",
      "include_colab_link": true
    },
    "kernelspec": {
      "name": "python3",
      "display_name": "Python 3"
    },
    "language_info": {
      "name": "python"
    }
  },
  "cells": [
    {
      "cell_type": "markdown",
      "metadata": {
        "id": "view-in-github",
        "colab_type": "text"
      },
      "source": [
        "<a href=\"https://colab.research.google.com/github/jibook/git-remote/blob/master/TensorFlow_15_Deep_Learning_for_text_and_sequences.ipynb\" target=\"_parent\"><img src=\"https://colab.research.google.com/assets/colab-badge.svg\" alt=\"Open In Colab\"/></a>"
      ]
    },
    {
      "cell_type": "code",
      "source": [
        "!unzip jena_climate_2009_2016.csv.zip"
      ],
      "metadata": {
        "colab": {
          "base_uri": "https://localhost:8080/"
        },
        "id": "tzgbhL7IPwcZ",
        "outputId": "2a8715f7-d1b4-44cf-835e-07ad6ca25949"
      },
      "execution_count": null,
      "outputs": [
        {
          "output_type": "stream",
          "name": "stdout",
          "text": [
            "Archive:  jena_climate_2009_2016.csv.zip\n",
            "replace jena_climate_2009_2016.csv? [y]es, [n]o, [A]ll, [N]one, [r]ename: A\n",
            "  inflating: jena_climate_2009_2016.csv  \n",
            "  inflating: __MACOSX/._jena_climate_2009_2016.csv  \n"
          ]
        }
      ]
    },
    {
      "cell_type": "code",
      "source": [
        "import os \n",
        "data_dir = './'\n",
        "fname = os.path.join(data_dir,'jena_climate_2009_2016.csv') "
      ],
      "metadata": {
        "id": "LGt1t4AGPy4L"
      },
      "execution_count": null,
      "outputs": []
    },
    {
      "cell_type": "code",
      "source": [
        "f = open(fname)\n",
        "data = f.read()\n",
        "f.close() \n",
        "lines = data.split('\\n')\n",
        "header = lines[0].split(',')\n",
        "lines = lines[1:] "
      ],
      "metadata": {
        "id": "YzZuKv-KPy6x"
      },
      "execution_count": null,
      "outputs": []
    },
    {
      "cell_type": "code",
      "source": [
        "import numpy as np \n",
        "float_data = np.zeros((len(lines), len(header) - 1))\n",
        "for i, line in enumerate(lines): \n",
        "  values = [float(x) for x in line.split(',')[1:]]\n",
        "  float_data[i, :] = values"
      ],
      "metadata": {
        "id": "YKOOCZfIPy-t"
      },
      "execution_count": null,
      "outputs": []
    },
    {
      "cell_type": "code",
      "source": [
        "mean = float_data[:200000].mean(axis=0)\n",
        "float_data -= mean"
      ],
      "metadata": {
        "id": "jNmQRVHAPzGx"
      },
      "execution_count": null,
      "outputs": []
    },
    {
      "cell_type": "code",
      "source": [
        "std = float_data[:20000].std(axis=0)"
      ],
      "metadata": {
        "id": "3HPS9Tx2P_v9"
      },
      "execution_count": null,
      "outputs": []
    },
    {
      "cell_type": "code",
      "source": [
        "float_data /= std"
      ],
      "metadata": {
        "id": "WpvaDyp4P_y9"
      },
      "execution_count": null,
      "outputs": []
    },
    {
      "cell_type": "code",
      "source": [
        "def generator(data, lookback, delay, min_index, max_index,\n",
        "              shuffle=False, batch_size=128, step=6):\n",
        "  if max_index is None:\n",
        "    max_index = len(data) - delay - 1\n",
        "  i = min_index + lookback\n",
        "  while 1:\n",
        "    if shuffle:\n",
        "      rows = np.random.randint(min_index + lookback, max_index, size=batch_size)\n",
        "    else:\n",
        "      if i + batch_size >= max_index:\n",
        "        i = min_index + lookback\n",
        "      rows = np.arange(i, min(i + batch_size, max_index))\n",
        "      i += len(rows)\n",
        "    samples = np.zeros((len(rows),lookback // step,data.shape[-1]))\n",
        "    targets = np.zeros((len(rows),))\n",
        "    for j, row in enumerate(rows):\n",
        "      indices = range(rows[j] - lookback, rows[j], step)\n",
        "      samples[j] = data[indices]\n",
        "      targets[j] = data[rows[j] + delay][1]\n",
        "    yield samples, targets"
      ],
      "metadata": {
        "id": "wAuelhGKP_3b"
      },
      "execution_count": null,
      "outputs": []
    },
    {
      "cell_type": "code",
      "source": [
        "lookback = 1440\n",
        "step = 6\n",
        "delay = 144\n",
        "batch_size = 128"
      ],
      "metadata": {
        "id": "W7nHoLs6Phr4"
      },
      "execution_count": null,
      "outputs": []
    },
    {
      "cell_type": "code",
      "execution_count": null,
      "metadata": {
        "id": "K4-4ufzrPGLf"
      },
      "outputs": [],
      "source": [
        "train_gen = generator(float_data,\n",
        "                      lookback=lookback,\n",
        "                      delay=delay,\n",
        "                      min_index=0,\n",
        "                      max_index=200000,\n",
        "                      shuffle=True,\n",
        "                      step=step,\n",
        "                      batch_size=batch_size)\n",
        "val_gen = generator(float_data,\n",
        "                    lookback=lookback,\n",
        "                    delay=delay,\n",
        "                    min_index=200001,\n",
        "                    max_index=300000,\n",
        "                    step=step,\n",
        "                    batch_size=batch_size)\n",
        "test_gen = generator(float_data,\n",
        "                     lookback=lookback,\n",
        "                     delay=delay,\n",
        "                     min_index=300001,\n",
        "                     max_index=None,\n",
        "                     step=step,\n",
        "                     batch_size=batch_size)\n",
        "\n",
        "val_steps = (300000 - 200001 - lookback)\n",
        "test_steps = (len(float_data) - 300001 - lookback)"
      ]
    },
    {
      "cell_type": "code",
      "source": [
        "from keras.models import Sequential\n",
        "from keras import layers \n",
        "from tensorflow.keras.optimizers import RMSprop \n",
        "\n",
        "model = Sequential() \n",
        "model.add(layers.Flatten(input_shape=(lookback // step, float_data.shape[-1])))\n",
        "model.add(layers.Dense(32, activation='relu')) \n",
        "model.add(layers.Dense(1)) \n",
        "\n",
        "model.compile(optimizer=RMSprop(), loss='mae')\n",
        "history = model.fit_generator(train_gen, \n",
        "                              steps_per_epoch = 500,\n",
        "                              epochs = 20,\n",
        "                              validation_data = val_gen,\n",
        "                              validation_steps = val_steps)"
      ],
      "metadata": {
        "colab": {
          "base_uri": "https://localhost:8080/"
        },
        "id": "MmDBfzG3PYPZ",
        "outputId": "3d549dc1-4f96-49d6-a801-0dc59460d7b9"
      },
      "execution_count": null,
      "outputs": [
        {
          "output_type": "stream",
          "name": "stdout",
          "text": [
            "Epoch 1/20\n"
          ]
        },
        {
          "output_type": "stream",
          "name": "stderr",
          "text": [
            "/usr/local/lib/python3.7/dist-packages/ipykernel_launcher.py:15: UserWarning: `Model.fit_generator` is deprecated and will be removed in a future version. Please use `Model.fit`, which supports generators.\n",
            "  from ipykernel import kernelapp as app\n"
          ]
        },
        {
          "output_type": "stream",
          "name": "stdout",
          "text": [
            "500/500 [==============================] - 748s 1s/step - loss: 1.5410 - val_loss: 0.7355\n",
            "Epoch 2/20\n",
            "500/500 [==============================] - 694s 1s/step - loss: 0.4566 - val_loss: 0.3827\n",
            "Epoch 3/20\n",
            "500/500 [==============================] - 748s 1s/step - loss: 0.3371 - val_loss: 0.3697\n",
            "Epoch 4/20\n",
            "500/500 [==============================] - 748s 1s/step - loss: 0.3138 - val_loss: 0.3568\n",
            "Epoch 5/20\n",
            "500/500 [==============================] - 747s 1s/step - loss: 0.2967 - val_loss: 0.3583\n",
            "Epoch 6/20\n",
            "500/500 [==============================] - 748s 1s/step - loss: 0.2885 - val_loss: 0.3756\n",
            "Epoch 7/20\n",
            "500/500 [==============================] - 748s 1s/step - loss: 0.2812 - val_loss: 0.3805\n",
            "Epoch 8/20\n",
            "500/500 [==============================] - 748s 1s/step - loss: 0.2776 - val_loss: 0.3718\n",
            "Epoch 9/20\n",
            "500/500 [==============================] - 748s 1s/step - loss: 0.2685 - val_loss: 0.3836\n",
            "Epoch 10/20\n",
            "500/500 [==============================] - 748s 1s/step - loss: 0.2681 - val_loss: 0.3761\n",
            "Epoch 11/20\n",
            "500/500 [==============================] - 713s 1s/step - loss: 0.2627 - val_loss: 0.4326\n",
            "Epoch 12/20\n",
            "500/500 [==============================] - 688s 1s/step - loss: 0.2601 - val_loss: 0.3874\n",
            "Epoch 13/20\n",
            "500/500 [==============================] - 748s 1s/step - loss: 0.2554 - val_loss: 0.4045\n",
            "Epoch 14/20\n",
            "500/500 [==============================] - 693s 1s/step - loss: 0.2534 - val_loss: 0.3886\n",
            "Epoch 15/20\n",
            "500/500 [==============================] - 748s 1s/step - loss: 0.2511 - val_loss: 0.3855\n",
            "Epoch 16/20\n",
            "500/500 [==============================] - 698s 1s/step - loss: 0.2483 - val_loss: 0.3859\n",
            "Epoch 17/20\n",
            "500/500 [==============================] - 749s 2s/step - loss: 0.2442 - val_loss: 0.3815\n",
            "Epoch 18/20\n",
            "500/500 [==============================] - 689s 1s/step - loss: 0.2433 - val_loss: 0.3758\n",
            "Epoch 19/20\n",
            "500/500 [==============================] - 691s 1s/step - loss: 0.2398 - val_loss: 0.4236\n",
            "Epoch 20/20\n",
            "500/500 [==============================] - 688s 1s/step - loss: 0.2389 - val_loss: 0.3924\n"
          ]
        }
      ]
    },
    {
      "cell_type": "code",
      "source": [
        "import matplotlib.pyplot as plt \n",
        "loss = history.history['loss']\n",
        "val_loss = history.history['val_loss'] \n",
        "epochs = range(1, len(loss) + 1)\n",
        "plt.figure() \n",
        "plt.plot(epochs, loss, 'bo', label='Training loss')\n",
        "plt.plot(epochs, val_loss, 'b', label='Validation loss')\n",
        "plt.title('Training and validation loss') \n",
        "plt.legend() \n",
        "plt.show()"
      ],
      "metadata": {
        "colab": {
          "base_uri": "https://localhost:8080/",
          "height": 281
        },
        "id": "q31zY-znSUrc",
        "outputId": "2ec65a4a-412b-4b42-a4f7-221bb8994d97"
      },
      "execution_count": null,
      "outputs": [
        {
          "output_type": "display_data",
          "data": {
            "text/plain": [
              "<Figure size 432x288 with 1 Axes>"
            ],
            "image/png": "[encoded data removed]"
          },
          "metadata": {
            "needs_background": "light"
          }
        }
      ]
    },
    {
      "cell_type": "code",
      "source": [
        ""
      ],
      "metadata": {
        "id": "YlCj_0FJLlqm"
      },
      "execution_count": null,
      "outputs": []
    }
  ]
}