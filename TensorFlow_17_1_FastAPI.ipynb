{
  "nbformat": 4,
  "nbformat_minor": 0,
  "metadata": {
    "colab": {
      "name": "TensorFlow_17_1_FastAPI.ipynb",
      "provenance": [],
      "authorship_tag": "ABX9TyNIe5qU+MSw6KX7PqtWpmCs",
      "include_colab_link": true
    },
    "kernelspec": {
      "name": "python3",
      "display_name": "Python 3"
    },
    "language_info": {
      "name": "python"
    }
  },
  "cells": [
    {
      "cell_type": "markdown",
      "metadata": {
        "id": "view-in-github",
        "colab_type": "text"
      },
      "source": [
        "<a href=\"https://colab.research.google.com/github/jibook/git-remote/blob/master/TensorFlow_17_1_FastAPI.ipynb\" target=\"_parent\"><img src=\"https://colab.research.google.com/assets/colab-badge.svg\" alt=\"Open In Colab\"/></a>"
      ]
    },
    {
      "cell_type": "code",
      "execution_count": null,
      "metadata": {
        "colab": {
          "base_uri": "https://localhost:8080/"
        },
        "id": "IELlGUHYM6Tg",
        "outputId": "68ec91af-1a03-47d8-feb8-085e0ea923fb"
      },
      "outputs": [
        {
          "output_type": "stream",
          "name": "stdout",
          "text": [
            "Collecting fastapi\n",
            "  Downloading fastapi-0.75.0-py3-none-any.whl (54 kB)\n",
            "\u001b[?25l\r\u001b[K     |██████                          | 10 kB 19.4 MB/s eta 0:00:01\r\u001b[K     |████████████                    | 20 kB 11.1 MB/s eta 0:00:01\r\u001b[K     |██████████████████              | 30 kB 8.8 MB/s eta 0:00:01\r\u001b[K     |████████████████████████        | 40 kB 4.4 MB/s eta 0:00:01\r\u001b[K     |██████████████████████████████  | 51 kB 4.9 MB/s eta 0:00:01\r\u001b[K     |████████████████████████████████| 54 kB 1.8 MB/s \n",
            "\u001b[?25hRequirement already satisfied: nest-asyncio in /usr/local/lib/python3.7/dist-packages (1.5.4)\n",
            "Collecting pyngrok\n",
            "  Downloading pyngrok-5.1.0.tar.gz (745 kB)\n",
            "\u001b[K     |████████████████████████████████| 745 kB 9.9 MB/s \n",
            "\u001b[?25hCollecting uvicorn\n",
            "  Downloading uvicorn-0.17.6-py3-none-any.whl (53 kB)\n",
            "\u001b[K     |████████████████████████████████| 53 kB 2.0 MB/s \n",
            "\u001b[?25hCollecting pydantic!=1.7,!=1.7.1,!=1.7.2,!=1.7.3,!=1.8,!=1.8.1,<2.0.0,>=1.6.2\n",
            "  Downloading pydantic-1.9.0-cp37-cp37m-manylinux_2_17_x86_64.manylinux2014_x86_64.whl (10.9 MB)\n",
            "\u001b[K     |████████████████████████████████| 10.9 MB 53.2 MB/s \n",
            "\u001b[?25hCollecting starlette==0.17.1\n",
            "  Downloading starlette-0.17.1-py3-none-any.whl (58 kB)\n",
            "\u001b[K     |████████████████████████████████| 58 kB 5.8 MB/s \n",
            "\u001b[?25hCollecting anyio<4,>=3.0.0\n",
            "  Downloading anyio-3.5.0-py3-none-any.whl (79 kB)\n",
            "\u001b[K     |████████████████████████████████| 79 kB 7.3 MB/s \n",
            "\u001b[?25hRequirement already satisfied: typing-extensions in /usr/local/lib/python3.7/dist-packages (from starlette==0.17.1->fastapi) (3.10.0.2)\n",
            "Collecting sniffio>=1.1\n",
            "  Downloading sniffio-1.2.0-py3-none-any.whl (10 kB)\n",
            "Requirement already satisfied: idna>=2.8 in /usr/local/lib/python3.7/dist-packages (from anyio<4,>=3.0.0->starlette==0.17.1->fastapi) (2.10)\n",
            "Requirement already satisfied: PyYAML in /usr/local/lib/python3.7/dist-packages (from pyngrok) (3.13)\n",
            "Collecting asgiref>=3.4.0\n",
            "  Downloading asgiref-3.5.0-py3-none-any.whl (22 kB)\n",
            "Requirement already satisfied: click>=7.0 in /usr/local/lib/python3.7/dist-packages (from uvicorn) (7.1.2)\n",
            "Collecting h11>=0.8\n",
            "  Downloading h11-0.13.0-py3-none-any.whl (58 kB)\n",
            "\u001b[K     |████████████████████████████████| 58 kB 5.7 MB/s \n",
            "\u001b[?25hBuilding wheels for collected packages: pyngrok\n",
            "  Building wheel for pyngrok (setup.py) ... \u001b[?25l\u001b[?25hdone\n",
            "  Created wheel for pyngrok: filename=pyngrok-5.1.0-py3-none-any.whl size=19007 sha256=704d785d1a58ee5b3715998207bd3ac4b10ab3d8d9f835161a6f34c04803ac37\n",
            "  Stored in directory: /root/.cache/pip/wheels/bf/e6/af/ccf6598ecefecd44104069371795cb9b3afbcd16987f6ccfb3\n",
            "Successfully built pyngrok\n",
            "Installing collected packages: sniffio, anyio, starlette, pydantic, h11, asgiref, uvicorn, pyngrok, fastapi\n",
            "Successfully installed anyio-3.5.0 asgiref-3.5.0 fastapi-0.75.0 h11-0.13.0 pydantic-1.9.0 pyngrok-5.1.0 sniffio-1.2.0 starlette-0.17.1 uvicorn-0.17.6\n"
          ]
        }
      ],
      "source": [
        "!pip install fastapi nest-asyncio pyngrok uvicorn"
      ]
    },
    {
      "cell_type": "code",
      "source": [
        "from typing import Optional\n",
        "from fastapi import FastAPI\n",
        "import nest_asyncio\n",
        "from pyngrok import ngrok\n",
        "import uvicorn\n",
        "\n",
        "app = FastAPI()\n",
        "\n",
        "@app.get('/')\n",
        "async def home():\n",
        "  return 'Hello World'\n",
        "\n",
        "ngrok_tunnel = ngrok.connect(8000)\n",
        "print('Public URL:', ngrok_tunnel.public_url)\n",
        "nest_asyncio.apply()\n",
        "uvicorn.run(app, host = '0.0.0.0', port=8000)"
      ],
      "metadata": {
        "colab": {
          "base_uri": "https://localhost:8080/"
        },
        "id": "OWE_TGAeOhO6",
        "outputId": "f95315e2-f4ae-48f2-d57e-03f08740d30c"
      },
      "execution_count": null,
      "outputs": [
        {
          "output_type": "stream",
          "name": "stdout",
          "text": [
            ""
          ]
        },
        {
          "output_type": "stream",
          "name": "stderr",
          "text": [
            "INFO:     Started server process [59]\n",
            "INFO:     Waiting for application startup.\n",
            "INFO:     Application startup complete.\n",
            "INFO:     Uvicorn running on http://0.0.0.0:8000 (Press CTRL+C to quit)\n"
          ]
        },
        {
          "output_type": "stream",
          "name": "stdout",
          "text": [
            "Public URL: http://3e71-34-74-196-105.ngrok.io\n",
            "INFO:     211.44.6.54:0 - \"GET / HTTP/1.1\" 200 OK\n",
            "INFO:     58.123.220.11:0 - \"GET / HTTP/1.1\" 200 OK\n",
            "INFO:     211.44.6.54:0 - \"GET / HTTP/1.1\" 200 OK\n",
            "INFO:     211.44.6.54:0 - \"GET /favicon.ico HTTP/1.1\" 404 Not Found\n",
            "INFO:     211.44.6.54:0 - \"GET / HTTP/1.1\" 200 OK\n"
          ]
        },
        {
          "output_type": "stream",
          "name": "stderr",
          "text": [
            "INFO:     Shutting down\n",
            "INFO:     Waiting for application shutdown.\n",
            "INFO:     Application shutdown complete.\n",
            "INFO:     Finished server process [59]\n"
          ]
        }
      ]
    },
    {
      "cell_type": "code",
      "source": [
        "from typing import Optional\n",
        "from fastapi import FastAPI\n",
        "import nest_asyncio\n",
        "from pyngrok import ngrok\n",
        "import uvicorn\n",
        "\n",
        "app = FastAPI()\n",
        "\n",
        "@app.get('/')\n",
        "async def home():\n",
        "  return 'Hello World'\n",
        "\n",
        "#@app.get('/')\n",
        "#def read_root():\n",
        "#  return {'Hello':'World'}  \n",
        "\n",
        "@app.get(\"/items/{item_id}\")\n",
        "def read_item(item_id:int, q:Optional[str] = None):\n",
        "  return {'item_id':item_id, 'q':q}\n",
        "\n",
        "ngrok_tunnel = ngrok.connect(8000)\n",
        "print('Public URL:', ngrok_tunnel.public_url)\n",
        "nest_asyncio.apply()\n",
        "uvicorn.run(app, host = '0.0.0.0', port=8000)"
      ],
      "metadata": {
        "colab": {
          "base_uri": "https://localhost:8080/"
        },
        "id": "59uPd5TNUu54",
        "outputId": "c4e109a3-6c4b-4901-906d-de0c5a228a5b"
      },
      "execution_count": null,
      "outputs": [
        {
          "output_type": "stream",
          "name": "stdout",
          "text": [
            "Public URL: http://7ce3-34-75-196-123.ngrok.io\n"
          ]
        },
        {
          "output_type": "stream",
          "name": "stderr",
          "text": [
            "INFO:     Started server process [62]\n",
            "INFO:     Waiting for application startup.\n",
            "INFO:     Application startup complete.\n",
            "INFO:     Uvicorn running on http://0.0.0.0:8000 (Press CTRL+C to quit)\n"
          ]
        },
        {
          "output_type": "stream",
          "name": "stdout",
          "text": [
            "INFO:     211.44.6.54:0 - \"GET / HTTP/1.1\" 200 OK\n",
            "INFO:     58.123.220.11:0 - \"GET / HTTP/1.1\" 200 OK\n",
            "INFO:     211.44.6.54:0 - \"GET / HTTP/1.1\" 200 OK\n",
            "INFO:     211.44.6.54:0 - \"GET /favicon.ico HTTP/1.1\" 404 Not Found\n",
            "INFO:     211.44.6.54:0 - \"GET / HTTP/1.1\" 200 OK\n",
            "INFO:     211.44.6.54:0 - \"GET /redoc HTTP/1.1\" 200 OK\n",
            "INFO:     211.44.6.54:0 - \"GET /openapi.json HTTP/1.1\" 200 OK\n",
            "INFO:     58.123.220.11:0 - \"GET /redoc HTTP/1.1\" 200 OK\n",
            "INFO:     58.123.220.11:0 - \"GET /openapi.json HTTP/1.1\" 200 OK\n"
          ]
        },
        {
          "output_type": "stream",
          "name": "stderr",
          "text": [
            "INFO:     Shutting down\n",
            "INFO:     Waiting for application shutdown.\n",
            "INFO:     Application shutdown complete.\n",
            "INFO:     Finished server process [62]\n"
          ]
        }
      ]
    },
    {
      "cell_type": "code",
      "source": [
        "!ngrok authtoken 26P5NSFkUtnURKy9pPsw14XpSaq_4PoTwUvNPG3XmHY3oY3VP"
      ],
      "metadata": {
        "colab": {
          "base_uri": "https://localhost:8080/"
        },
        "id": "MJNfH3N-bOwM",
        "outputId": "8db00a2a-ab59-4569-b78d-135a8f6f93b4"
      },
      "execution_count": null,
      "outputs": [
        {
          "output_type": "stream",
          "name": "stdout",
          "text": [
            "Authtoken saved to configuration file: /root/.ngrok2/ngrok.yml\n"
          ]
        }
      ]
    },
    {
      "cell_type": "code",
      "source": [
        "from pydantic import BaseModel\n",
        "\n",
        "class Item(BaseModel):\n",
        "  name: str\n",
        "  description: Optional[str] =None\n",
        "  price: float\n",
        "  tax: Optional[float] = None"
      ],
      "metadata": {
        "id": "Va1BSsbsbO9i"
      },
      "execution_count": null,
      "outputs": []
    },
    {
      "cell_type": "code",
      "source": [
        "app = FastAPI()\n",
        "\n",
        "@app.get('/')\n",
        "def read_root():\n",
        "  return {'Hello':'World'}  \n",
        "\n",
        "@app.get(\"/items/{item_id}\")\n",
        "def read_item(item_id:int, q:Optional[str] = None):\n",
        "  return {'item_id':item_id, 'q':q}\n",
        "\n",
        "@app.put(\"/items/{item_id}\")\n",
        "def put_read_item(item_id:int, item: Item):\n",
        "  return {'item_id':item_id, **item.dict()}\n",
        "\n",
        "ngrok_tunnel = ngrok.connect(8000)\n",
        "print('Public URL:', ngrok_tunnel.public_url)\n",
        "nest_asyncio.apply()\n",
        "uvicorn.run(app, host = '0.0.0.0', port=8000)"
      ],
      "metadata": {
        "colab": {
          "base_uri": "https://localhost:8080/"
        },
        "id": "cYAuXBBdbOyj",
        "outputId": "ded7f4dc-6ef7-41a6-8e5f-111ce8441292"
      },
      "execution_count": null,
      "outputs": [
        {
          "output_type": "stream",
          "name": "stdout",
          "text": [
            "Public URL: http://7894-34-75-196-123.ngrok.io\n"
          ]
        },
        {
          "output_type": "stream",
          "name": "stderr",
          "text": [
            "INFO:     Started server process [62]\n",
            "INFO:     Waiting for application startup.\n",
            "INFO:     Application startup complete.\n",
            "INFO:     Uvicorn running on http://0.0.0.0:8000 (Press CTRL+C to quit)\n"
          ]
        },
        {
          "output_type": "stream",
          "name": "stdout",
          "text": [
            "INFO:     211.44.6.54:0 - \"GET / HTTP/1.1\" 200 OK\n",
            "INFO:     211.117.24.132:0 - \"GET / HTTP/1.1\" 200 OK\n",
            "INFO:     211.44.6.54:0 - \"GET /favicon.ico HTTP/1.1\" 404 Not Found\n",
            "INFO:     211.44.6.54:0 - \"GET / HTTP/1.1\" 200 OK\n",
            "INFO:     211.44.6.54:0 - \"GET /docs HTTP/1.1\" 200 OK\n",
            "INFO:     211.44.6.54:0 - \"GET /openapi.json HTTP/1.1\" 200 OK\n",
            "INFO:     182.172.56.228:0 - \"GET /docs HTTP/1.1\" 200 OK\n",
            "INFO:     182.172.56.228:0 - \"GET /openapi.json HTTP/1.1\" 200 OK\n",
            "INFO:     211.44.6.54:0 - \"PUT /items/3 HTTP/1.1\" 200 OK\n",
            "INFO:     211.44.6.54:0 - \"PUT /items/4 HTTP/1.1\" 200 OK\n",
            "INFO:     211.44.6.54:0 - \"GET /items/1?q=table HTTP/1.1\" 200 OK\n",
            "INFO:     211.44.6.54:0 - \"GET /items/1?q=table HTTP/1.1\" 200 OK\n",
            "INFO:     211.44.6.54:0 - \"GET /items/2?q=TV HTTP/1.1\" 200 OK\n",
            "INFO:     211.44.6.54:0 - \"GET /items/3?q=computer HTTP/1.1\" 200 OK\n",
            "INFO:     211.44.6.54:0 - \"PUT /items/2 HTTP/1.1\" 200 OK\n",
            "INFO:     211.44.6.54:0 - \"PUT /items/1 HTTP/1.1\" 422 Unprocessable Entity\n",
            "INFO:     211.44.6.54:0 - \"PUT /items/1 HTTP/1.1\" 422 Unprocessable Entity\n",
            "INFO:     211.44.6.54:0 - \"PUT /items/2 HTTP/1.1\" 422 Unprocessable Entity\n"
          ]
        },
        {
          "output_type": "stream",
          "name": "stderr",
          "text": [
            "INFO:     Shutting down\n",
            "INFO:     Waiting for application shutdown.\n",
            "INFO:     Application shutdown complete.\n",
            "INFO:     Finished server process [62]\n"
          ]
        }
      ]
    },
    {
      "cell_type": "code",
      "source": [
        "from pydantic import BaseModel\n",
        "\n",
        "class Calc(BaseModel):\n",
        "  oper: str\n",
        "  a: int\n",
        "  b: int"
      ],
      "metadata": {
        "id": "i9Zoe4seNPR8"
      },
      "execution_count": null,
      "outputs": []
    },
    {
      "cell_type": "code",
      "source": [
        "from starlette.responses import HTMLResponse\n",
        "app = FastAPI()\n",
        "\n",
        "@app.get('/')\n",
        "def read_root():\n",
        "  return {'Hello':'World'}  \n",
        "\n",
        "@app.get(\"/items/{item_id}\")\n",
        "def read_item(item_id:int, q:Optional[str] = None):\n",
        "  return {'item_id':item_id, 'q':q}\n",
        "\n",
        "@app.put(\"/items/{item_id}\")\n",
        "def put_read_item(item_id:int, item: Item):\n",
        "  return {'item_id':item_id, **item.dict()}\n",
        "\n",
        "@app.post(\"/calc\")\n",
        "def calc(inp: Calc):\n",
        "  if inp.oper == 'plus':\n",
        "    res = inp['a'] + inp['b']\n",
        "  elif inp['oper'] == 'minus':\n",
        "    res = inp['a'] - inp['b']  \n",
        "  elif inp['oper'] == 'mul':\n",
        "    res = inp['a'] * inp['b']\n",
        "  elif inp['oper'] == 'div':\n",
        "    res = inp['a'] / inp['b']\n",
        "\n",
        "  return HTMLResponse(content=F'<h1>>{res}', status_code=200)\n",
        "\n",
        "ngrok_tunnel = ngrok.connect(8000)\n",
        "print('Public URL:', ngrok_tunnel.public_url)\n",
        "nest_asyncio.apply()\n",
        "uvicorn.run(app, host = '0.0.0.0', port=8000)"
      ],
      "metadata": {
        "colab": {
          "base_uri": "https://localhost:8080/"
        },
        "id": "GzYC1muqbPBX",
        "outputId": "0fc4e175-6f02-4f68-8675-4d103ec99d98"
      },
      "execution_count": null,
      "outputs": [
        {
          "output_type": "stream",
          "name": "stdout",
          "text": [
            "Public URL: http://9f0d-34-75-196-123.ngrok.io\n"
          ]
        },
        {
          "output_type": "stream",
          "name": "stderr",
          "text": [
            "INFO:     Started server process [62]\n",
            "INFO:     Waiting for application startup.\n",
            "INFO:     Application startup complete.\n",
            "INFO:     Uvicorn running on http://0.0.0.0:8000 (Press CTRL+C to quit)\n"
          ]
        },
        {
          "output_type": "stream",
          "name": "stdout",
          "text": [
            "INFO:     1.225.35.100:0 - \"GET / HTTP/1.1\" 200 OK\n",
            "INFO:     211.44.6.54:0 - \"GET / HTTP/1.1\" 200 OK\n",
            "INFO:     211.44.6.54:0 - \"GET /favicon.ico HTTP/1.1\" 404 Not Found\n",
            "INFO:     211.44.6.54:0 - \"GET /calc HTTP/1.1\" 405 Method Not Allowed\n",
            "INFO:     211.44.6.54:0 - \"GET /favicon.ico HTTP/1.1\" 404 Not Found\n",
            "INFO:     182.172.56.228:0 - \"GET /calc HTTP/1.1\" 405 Method Not Allowed\n",
            "INFO:     211.44.6.54:0 - \"GET /Calc HTTP/1.1\" 404 Not Found\n",
            "INFO:     58.123.220.11:0 - \"GET /Calc HTTP/1.1\" 404 Not Found\n",
            "INFO:     211.44.6.54:0 - \"GET /docs HTTP/1.1\" 200 OK\n",
            "INFO:     182.172.56.199:0 - \"GET /docs HTTP/1.1\" 200 OK\n",
            "INFO:     211.44.6.54:0 - \"GET /docs HTTP/1.1\" 200 OK\n",
            "INFO:     211.44.6.54:0 - \"GET /openapi.json HTTP/1.1\" 200 OK\n",
            "INFO:     182.172.56.199:0 - \"GET /openapi.json HTTP/1.1\" 200 OK\n",
            "INFO:     211.44.6.54:0 - \"PUT /items/5 HTTP/1.1\" 200 OK\n"
          ]
        },
        {
          "output_type": "stream",
          "name": "stderr",
          "text": [
            "INFO:     Shutting down\n",
            "INFO:     Waiting for application shutdown.\n",
            "INFO:     Application shutdown complete.\n",
            "INFO:     Finished server process [62]\n"
          ]
        }
      ]
    },
    {
      "cell_type": "code",
      "source": [
        ""
      ],
      "metadata": {
        "id": "eequjl1QNB13"
      },
      "execution_count": null,
      "outputs": []
    }
  ]
}