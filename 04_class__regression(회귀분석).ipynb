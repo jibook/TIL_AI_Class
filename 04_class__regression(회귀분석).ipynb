{
  "nbformat": 4,
  "nbformat_minor": 0,
  "metadata": {
    "colab": {
      "name": "04_class_ regression(회귀분석).ipynb",
      "provenance": [],
      "authorship_tag": "ABX9TyPT5isD4ZEse5JOt7c8Q74S",
      "include_colab_link": true
    },
    "kernelspec": {
      "name": "python3",
      "display_name": "Python 3"
    },
    "language_info": {
      "name": "python"
    }
  },
  "cells": [
    {
      "cell_type": "markdown",
      "metadata": {
        "id": "view-in-github",
        "colab_type": "text"
      },
      "source": [
        "<a href=\"https://colab.research.google.com/github/jibook/git-remote/blob/master/04_class__regression(%ED%9A%8C%EA%B7%80%EB%B6%84%EC%84%9D).ipynb\" target=\"_parent\"><img src=\"https://colab.research.google.com/assets/colab-badge.svg\" alt=\"Open In Colab\"/></a>"
      ]
    },
    {
      "cell_type": "code",
      "execution_count": 16,
      "metadata": {
        "id": "USWWgYBNzL0F"
      },
      "outputs": [],
      "source": [
        "import seaborn as sns\n",
        "import pandas as pd\n",
        "import numpy as np\n",
        "\n",
        "%matplotlib inline"
      ]
    },
    {
      "cell_type": "code",
      "source": [
        "sns.get_dataset_names()  # seaborn 이 지원하는 데이터 세트"
      ],
      "metadata": {
        "colab": {
          "base_uri": "https://localhost:8080/"
        },
        "id": "Wt2FEbuT0Ka0",
        "outputId": "3a5ee5cc-305c-4df7-9b75-ddf011e39e6e"
      },
      "execution_count": 17,
      "outputs": [
        {
          "output_type": "execute_result",
          "data": {
            "text/plain": [
              "['anagrams',\n",
              " 'anscombe',\n",
              " 'attention',\n",
              " 'brain_networks',\n",
              " 'car_crashes',\n",
              " 'diamonds',\n",
              " 'dots',\n",
              " 'exercise',\n",
              " 'flights',\n",
              " 'fmri',\n",
              " 'gammas',\n",
              " 'geyser',\n",
              " 'iris',\n",
              " 'mpg',\n",
              " 'penguins',\n",
              " 'planets',\n",
              " 'taxis',\n",
              " 'tips',\n",
              " 'titanic']"
            ]
          },
          "metadata": {},
          "execution_count": 17
        }
      ]
    },
    {
      "cell_type": "code",
      "source": [
        "data = sns.load_dataset(name = 'iris')"
      ],
      "metadata": {
        "id": "rlDOLgh10RyJ"
      },
      "execution_count": 18,
      "outputs": []
    },
    {
      "cell_type": "code",
      "source": [
        "data.info()"
      ],
      "metadata": {
        "colab": {
          "base_uri": "https://localhost:8080/"
        },
        "id": "1zPTWPzD0YV-",
        "outputId": "9aa2959f-f0a0-4d1e-b6f5-2781f301a126"
      },
      "execution_count": 19,
      "outputs": [
        {
          "output_type": "stream",
          "name": "stdout",
          "text": [
            "<class 'pandas.core.frame.DataFrame'>\n",
            "RangeIndex: 150 entries, 0 to 149\n",
            "Data columns (total 5 columns):\n",
            " #   Column        Non-Null Count  Dtype  \n",
            "---  ------        --------------  -----  \n",
            " 0   sepal_length  150 non-null    float64\n",
            " 1   sepal_width   150 non-null    float64\n",
            " 2   petal_length  150 non-null    float64\n",
            " 3   petal_width   150 non-null    float64\n",
            " 4   species       150 non-null    object \n",
            "dtypes: float64(4), object(1)\n",
            "memory usage: 6.0+ KB\n"
          ]
        }
      ]
    },
    {
      "cell_type": "code",
      "source": [
        "data.head()"
      ],
      "metadata": {
        "colab": {
          "base_uri": "https://localhost:8080/",
          "height": 206
        },
        "id": "zS4Te2n-0Z0o",
        "outputId": "39cdb285-1283-424b-dbc6-70e7cd466c4c"
      },
      "execution_count": 20,
      "outputs": [
        {
          "output_type": "execute_result",
          "data": {
            "text/html": [
              "\n",
              "  <div id=\"df-ed3c5a14-bcfb-41f1-9dd5-46ce2d80cee7\">\n",
              "    <div class=\"colab-df-container\">\n",
              "      <div>\n",
              "<style scoped>\n",
              "    .dataframe tbody tr th:only-of-type {\n",
              "        vertical-align: middle;\n",
              "    }\n",
              "\n",
              "    .dataframe tbody tr th {\n",
              "        vertical-align: top;\n",
              "    }\n",
              "\n",
              "    .dataframe thead th {\n",
              "        text-align: right;\n",
              "    }\n",
              "</style>\n",
              "<table border=\"1\" class=\"dataframe\">\n",
              "  <thead>\n",
              "    <tr style=\"text-align: right;\">\n",
              "      <th></th>\n",
              "      <th>sepal_length</th>\n",
              "      <th>sepal_width</th>\n",
              "      <th>petal_length</th>\n",
              "      <th>petal_width</th>\n",
              "      <th>species</th>\n",
              "    </tr>\n",
              "  </thead>\n",
              "  <tbody>\n",
              "    <tr>\n",
              "      <th>0</th>\n",
              "      <td>5.1</td>\n",
              "      <td>3.5</td>\n",
              "      <td>1.4</td>\n",
              "      <td>0.2</td>\n",
              "      <td>setosa</td>\n",
              "    </tr>\n",
              "    <tr>\n",
              "      <th>1</th>\n",
              "      <td>4.9</td>\n",
              "      <td>3.0</td>\n",
              "      <td>1.4</td>\n",
              "      <td>0.2</td>\n",
              "      <td>setosa</td>\n",
              "    </tr>\n",
              "    <tr>\n",
              "      <th>2</th>\n",
              "      <td>4.7</td>\n",
              "      <td>3.2</td>\n",
              "      <td>1.3</td>\n",
              "      <td>0.2</td>\n",
              "      <td>setosa</td>\n",
              "    </tr>\n",
              "    <tr>\n",
              "      <th>3</th>\n",
              "      <td>4.6</td>\n",
              "      <td>3.1</td>\n",
              "      <td>1.5</td>\n",
              "      <td>0.2</td>\n",
              "      <td>setosa</td>\n",
              "    </tr>\n",
              "    <tr>\n",
              "      <th>4</th>\n",
              "      <td>5.0</td>\n",
              "      <td>3.6</td>\n",
              "      <td>1.4</td>\n",
              "      <td>0.2</td>\n",
              "      <td>setosa</td>\n",
              "    </tr>\n",
              "  </tbody>\n",
              "</table>\n",
              "</div>\n",
              "      <button class=\"colab-df-convert\" onclick=\"convertToInteractive('df-ed3c5a14-bcfb-41f1-9dd5-46ce2d80cee7')\"\n",
              "              title=\"Convert this dataframe to an interactive table.\"\n",
              "              style=\"display:none;\">\n",
              "        \n",
              "  <svg xmlns=\"http://www.w3.org/2000/svg\" height=\"24px\"viewBox=\"0 0 24 24\"\n",
              "       width=\"24px\">\n",
              "    <path d=\"M0 0h24v24H0V0z\" fill=\"none\"/>\n",
              "    <path d=\"M18.56 5.44l.94 2.06.94-2.06 2.06-.94-2.06-.94-.94-2.06-.94 2.06-2.06.94zm-11 1L8.5 8.5l.94-2.06 2.06-.94-2.06-.94L8.5 2.5l-.94 2.06-2.06.94zm10 10l.94 2.06.94-2.06 2.06-.94-2.06-.94-.94-2.06-.94 2.06-2.06.94z\"/><path d=\"M17.41 7.96l-1.37-1.37c-.4-.4-.92-.59-1.43-.59-.52 0-1.04.2-1.43.59L10.3 9.45l-7.72 7.72c-.78.78-.78 2.05 0 2.83L4 21.41c.39.39.9.59 1.41.59.51 0 1.02-.2 1.41-.59l7.78-7.78 2.81-2.81c.8-.78.8-2.07 0-2.86zM5.41 20L4 18.59l7.72-7.72 1.47 1.35L5.41 20z\"/>\n",
              "  </svg>\n",
              "      </button>\n",
              "      \n",
              "  <style>\n",
              "    .colab-df-container {\n",
              "      display:flex;\n",
              "      flex-wrap:wrap;\n",
              "      gap: 12px;\n",
              "    }\n",
              "\n",
              "    .colab-df-convert {\n",
              "      background-color: #E8F0FE;\n",
              "      border: none;\n",
              "      border-radius: 50%;\n",
              "      cursor: pointer;\n",
              "      display: none;\n",
              "      fill: #1967D2;\n",
              "      height: 32px;\n",
              "      padding: 0 0 0 0;\n",
              "      width: 32px;\n",
              "    }\n",
              "\n",
              "    .colab-df-convert:hover {\n",
              "      background-color: #E2EBFA;\n",
              "      box-shadow: 0px 1px 2px rgba(60, 64, 67, 0.3), 0px 1px 3px 1px rgba(60, 64, 67, 0.15);\n",
              "      fill: #174EA6;\n",
              "    }\n",
              "\n",
              "    [theme=dark] .colab-df-convert {\n",
              "      background-color: #3B4455;\n",
              "      fill: #D2E3FC;\n",
              "    }\n",
              "\n",
              "    [theme=dark] .colab-df-convert:hover {\n",
              "      background-color: #434B5C;\n",
              "      box-shadow: 0px 1px 3px 1px rgba(0, 0, 0, 0.15);\n",
              "      filter: drop-shadow(0px 1px 2px rgba(0, 0, 0, 0.3));\n",
              "      fill: #FFFFFF;\n",
              "    }\n",
              "  </style>\n",
              "\n",
              "      <script>\n",
              "        const buttonEl =\n",
              "          document.querySelector('#df-ed3c5a14-bcfb-41f1-9dd5-46ce2d80cee7 button.colab-df-convert');\n",
              "        buttonEl.style.display =\n",
              "          google.colab.kernel.accessAllowed ? 'block' : 'none';\n",
              "\n",
              "        async function convertToInteractive(key) {\n",
              "          const element = document.querySelector('#df-ed3c5a14-bcfb-41f1-9dd5-46ce2d80cee7');\n",
              "          const dataTable =\n",
              "            await google.colab.kernel.invokeFunction('convertToInteractive',\n",
              "                                                     [key], {});\n",
              "          if (!dataTable) return;\n",
              "\n",
              "          const docLinkHtml = 'Like what you see? Visit the ' +\n",
              "            '<a target=\"_blank\" href=https://colab.research.google.com/notebooks/data_table.ipynb>data table notebook</a>'\n",
              "            + ' to learn more about interactive tables.';\n",
              "          element.innerHTML = '';\n",
              "          dataTable['output_type'] = 'display_data';\n",
              "          await google.colab.output.renderOutput(dataTable, element);\n",
              "          const docLink = document.createElement('div');\n",
              "          docLink.innerHTML = docLinkHtml;\n",
              "          element.appendChild(docLink);\n",
              "        }\n",
              "      </script>\n",
              "    </div>\n",
              "  </div>\n",
              "  "
            ],
            "text/plain": [
              "   sepal_length  sepal_width  petal_length  petal_width species\n",
              "0           5.1          3.5           1.4          0.2  setosa\n",
              "1           4.9          3.0           1.4          0.2  setosa\n",
              "2           4.7          3.2           1.3          0.2  setosa\n",
              "3           4.6          3.1           1.5          0.2  setosa\n",
              "4           5.0          3.6           1.4          0.2  setosa"
            ]
          },
          "metadata": {},
          "execution_count": 20
        }
      ]
    },
    {
      "cell_type": "code",
      "source": [
        "sns.lmplot('petal_length', 'petal_width', data)"
      ],
      "metadata": {
        "colab": {
          "base_uri": "https://localhost:8080/",
          "height": 443
        },
        "id": "gIAPjna65dUz",
        "outputId": "ec68e566-c965-44dd-b501-b1125dae5fc6"
      },
      "execution_count": 21,
      "outputs": [
        {
          "output_type": "stream",
          "name": "stderr",
          "text": [
            "/usr/local/lib/python3.7/dist-packages/seaborn/_decorators.py:43: FutureWarning: Pass the following variables as keyword args: x, y, data. From version 0.12, the only valid positional argument will be `data`, and passing other arguments without an explicit keyword will result in an error or misinterpretation.\n",
            "  FutureWarning\n"
          ]
        },
        {
          "output_type": "execute_result",
          "data": {
            "text/plain": [
              "<seaborn.axisgrid.FacetGrid at 0x7feec3a420d0>"
            ]
          },
          "metadata": {},
          "execution_count": 21
        },
        {
          "output_type": "display_data",
          "data": {
            "image/png": "[encoded data removed]",
            "text/plain": [
              "<Figure size 360x360 with 1 Axes>"
            ]
          },
          "metadata": {
            "needs_background": "light"
          }
        }
      ]
    },
    {
      "cell_type": "code",
      "source": [
        "X = [157, 160, 160, 168, 172, 175, 175, 177, 182, 184, 188, 190]\n",
        "y = [42, 48, 54, 48, 63, 69, 71, 73, 70, 80, 79, 81]\n",
        "\n",
        "print('----------------------------------------------')\n",
        "print(' Method 1: Statistical Method')\n",
        "print('----------------------------------------------')\n",
        "Xmean = sum(X) / len(X)\n",
        "Ymean = sum(y) / len(y)\n",
        "\n",
        "print('Xmean', Xmean, \"Ymean\", Ymean)"
      ],
      "metadata": {
        "colab": {
          "base_uri": "https://localhost:8080/"
        },
        "id": "hL7pl-k30bm8",
        "outputId": "f092d173-c604-469a-d1d8-68c81d29876e"
      },
      "execution_count": 22,
      "outputs": [
        {
          "output_type": "stream",
          "name": "stdout",
          "text": [
            "----------------------------------------------\n",
            " Method 1: Statistical Method\n",
            "----------------------------------------------\n",
            "Xmean 174.0 Ymean 64.83333333333333\n"
          ]
        }
      ]
    },
    {
      "cell_type": "code",
      "source": [
        "X = [157, 160, 160, 168, 172, 175, 175, 177, 182, 184, 188, 190]\n",
        "y = [42, 48, 54, 48, 63, 69, 71, 73, 70, 80, 79, 81]\n",
        "\n",
        "M1_W=[0.0]\n",
        "M1_b=[0.0]\n",
        "\n",
        "total1 = 0\n",
        "total2 = 0\n",
        "\n",
        "for i in range(len(X)):\n",
        "  total1 += (y[i]-Ymean)*(X[i]-Xmean)\n",
        "  total2 += pow((X[i]-Xmean),2)\n",
        "\n",
        "M1_W[0] = total1/total2\n",
        "M1_b[0] = Ymean - M1_W[0]*Xmean"
      ],
      "metadata": {
        "id": "jXER28y9525y"
      },
      "execution_count": 25,
      "outputs": []
    },
    {
      "cell_type": "code",
      "source": [
        "X = [157, 160, 160, 168, 172, 175, 175, 177, 182, 184, 188, 190]\n",
        "y = [42, 48, 54, 48, 63, 69, 71, 73, 70, 80, 79, 81]\n",
        "\n",
        "print('Linear Regression by MEthod 1 : y =', M1_W[0], '* x +', M1_b[0])\n",
        "print('----------------------------------------------')\n",
        "print('y           y_hat ')\n",
        "print('----------------------------------------------')\n",
        "\n",
        "\n",
        "M1_cost = costfunction(X, y, M1_W, M1_b, 0)"
      ],
      "metadata": {
        "colab": {
          "base_uri": "https://localhost:8080/"
        },
        "id": "z1jeD6kh76iC",
        "outputId": "f63d0777-ea80-4d9c-facc-bfc0951948a0"
      },
      "execution_count": 29,
      "outputs": [
        {
          "output_type": "stream",
          "name": "stdout",
          "text": [
            "Linear Regression by MEthod 1 : y = 0.0 * x + 0.0\n",
            "----------------------------------------------\n",
            "y           y_hat \n",
            "----------------------------------------------\n"
          ]
        }
      ]
    },
    {
      "cell_type": "code",
      "source": [
        "# cost function\n",
        "def costfunction(x, y, W, b, iters):\n",
        "  total = 0.0\n",
        "  for i in range(len(x)):\n",
        "    total += pow(W[iters]*x[i] + b[iters]- y[i], 2)\n",
        "  return total/2"
      ],
      "metadata": {
        "id": "Mw_tOPaU76kf"
      },
      "execution_count": 27,
      "outputs": []
    },
    {
      "cell_type": "code",
      "source": [
        "# test set\n",
        "# X = [-3, -2, -1, 0, 1, 2, 3]\n",
        "# y = [-3, -2, -1, 0, 1, 2, 3]   # y1\n",
        "# y = [-2, -1, 0, 1, 2, 3, 4]   # y2\n",
        "\n",
        "X = [157, 160, 160, 168, 172, 175, 175, 177, 182, 184, 188, 190]\n",
        "y = [42, 48, 54, 48, 63, 69, 71, 73, 70, 80, 79, 81]\n",
        "\n",
        "M1_W = [0.0]\n",
        "M1_b = [0.0]\n",
        "\n",
        "print('----------------------------------------------')\n",
        "print(' Method 1: Statistical Method')\n",
        "print('----------------------------------------------')\n",
        "Xmean = sum(X) / len(X)\n",
        "Ymean = sum(y) / len(y)\n",
        "\n",
        "print('Xmean', Xmean, \"Ymean\", Ymean)\n",
        "print('----------------------------------------------')\n",
        "\n",
        "\n",
        "total1 = 0\n",
        "total2 = 0\n",
        "\n",
        "for i in range(len(X)):\n",
        "  total1 += (y[i]-Ymean)*(X[i]-Xmean)\n",
        "  total2 += pow((X[i]-Xmean),2)\n",
        "\n",
        "M1_W[0] = total1/total2\n",
        "M1_b[0] = Ymean - M1_W[0]*Xmean\n",
        "print('Linear Regression by MEthod 1 : y =', M1_W[0], '* x +', M1_b[0])"
      ],
      "metadata": {
        "colab": {
          "base_uri": "https://localhost:8080/"
        },
        "id": "l19yozDi76zY",
        "outputId": "a77ca8c3-472c-4f1f-ae13-adc781b992e5"
      },
      "execution_count": 31,
      "outputs": [
        {
          "output_type": "stream",
          "name": "stdout",
          "text": [
            "----------------------------------------------\n",
            " Method 1: Statistical Method\n",
            "----------------------------------------------\n",
            "Xmean 174.0 Ymean 64.83333333333333\n",
            "----------------------------------------------\n",
            "Linear Regression by MEthod 1 : y = 1.160979228486647 * x + -137.17705242334324\n"
          ]
        }
      ]
    },
    {
      "cell_type": "code",
      "source": [
        "import random"
      ],
      "metadata": {
        "id": "5fJvCGYLL_wl"
      },
      "execution_count": 32,
      "outputs": []
    },
    {
      "cell_type": "code",
      "source": [
        "print('----------------------------------------------')\n",
        "print(' Method 2: Statistical Method')\n",
        "print('----------------------------------------------')\n",
        "\n",
        "W = [0.0]\n",
        "b = [0.0]\n",
        "W[0] = float(random.randint(-100, 100))  ## M1_W[0] \n",
        "b[0] = float(random.randint(-100, 100))  ## M1_b[0] \n",
        "\n",
        "# This tells us when to stop the algorithm\n",
        "iters = 0 # iteration counter\n",
        "cost = costfunction(X, y, W, b, iters)\n",
        "\n",
        "print('Interation', iters, '|tW[0:', W[0], b[0], '|tcost:', cost)"
      ],
      "metadata": {
        "colab": {
          "base_uri": "https://localhost:8080/"
        },
        "id": "A7CAlTlWCMox",
        "outputId": "9250de45-9539-45d0-ad04-180827f9e88e"
      },
      "execution_count": 33,
      "outputs": [
        {
          "output_type": "stream",
          "name": "stdout",
          "text": [
            "----------------------------------------------\n",
            " Method 2: Statistical Method\n",
            "----------------------------------------------\n",
            "Interation 0 |tW[0: 74.0 -94.0 |tcost: 973934007.0\n"
          ]
        }
      ]
    },
    {
      "cell_type": "markdown",
      "source": [
        "### Gradient"
      ],
      "metadata": {
        "id": "EI52kj8CEr01"
      }
    },
    {
      "cell_type": "code",
      "source": [
        "def g_W(X, y, iters):\n",
        "  total=0.0\n",
        "  total += W[iters] * X[i] * X[i] + b[iters] * X[i] - X[i] * y[i]\n",
        "  return total"
      ],
      "metadata": {
        "id": "d4IgHHK8EouZ"
      },
      "execution_count": 34,
      "outputs": []
    },
    {
      "cell_type": "code",
      "source": [
        "def g_b(X, y, iters):\n",
        "  total=0.0\n",
        "  total += W[iters] * X[i] + b[iters] - y[i]\n",
        "  return total"
      ],
      "metadata": {
        "id": "u840vyJXIvQb"
      },
      "execution_count": 35,
      "outputs": []
    },
    {
      "cell_type": "code",
      "source": [
        "# X = [157, 160, 160, 168, 172, 175, 175, 177, 182, 184, 188, 190]\n",
        "# y = [42, 48, 54, 48, 63, 69, 71, 73, 70, 80, 79, 81]\n",
        "# print('----------------------------------------------')\n",
        "# print(' Method 2: Statistical Method')\n",
        "# print('----------------------------------------------')\n",
        "\n",
        "# W = [0.0]\n",
        "# b = [0.0]\n",
        "# W[0] = float(random.randint(-100, 100))  ## M1_W[0] \n",
        "# b[0] = float(random.randint(-100, 100))  ## M1_b[0] \n",
        "\n",
        "# # This tells us when to stop the algorithm\n",
        "# iters = 0 # iteration counter\n",
        "# cost = costfunction(X, y, W, b, iters)\n",
        "\n",
        "# print('Interation', iters, '|tW[0:', W[0], b[0], '|tcost:', cost)\n",
        "\n",
        "# rate = 10/cost # Learning rate   ## 0.000001 * cost \n",
        "# MaxItrs = cost  ## 10000\n",
        "# precision = 0.0001  ## M1_cost * 0.8\n",
        "\n",
        "# while cost > precision: # and iters < MaxItrs:\n",
        "#   iters = iters + 1     # iteration count\n",
        "#   gradientW = g_W(X, y, iters-1)\n",
        "#   gradientB = g_b(X, y, iters-1)\n",
        "#   newW = W[iters-1] - rate * gradientW   # Grad descent\n",
        "#   newb = b[iters-1] - rate * gradientB   # Grad descent\n",
        "#   W.append(newW)\n",
        "#   W.append(newb)"
      ],
      "metadata": {
        "id": "JLbPjtv0F8pQ"
      },
      "execution_count": 61,
      "outputs": []
    },
    {
      "cell_type": "code",
      "source": [
        "X = [-3, -2, -1, 0, 1, 2, 3]\n",
        "# y = [-3, -2, -1, 0, 1, 2, 3]   # y1"
      ],
      "metadata": {
        "id": "D9uZgdbLKb-H"
      },
      "execution_count": 37,
      "outputs": []
    },
    {
      "cell_type": "code",
      "source": [
        "print('----------------------------------------------')\n",
        "print(' Method 2: Statistical Method')\n",
        "print('----------------------------------------------')\n",
        "\n",
        "W = [0.0]\n",
        "b = [0.0]\n",
        "W[0] = float(random.randint(-100, 100))  ## M1_W[0] \n",
        "b[0] = float(random.randint(-100, 100))  ## M1_b[0] \n",
        "\n",
        "# This tells us when to stop the algorithm\n",
        "iters = 0 # iteration counter\n",
        "cost = costfunction(X, y, W, b, iters)\n",
        "\n",
        "print('Interation', iters, '|tW[0:', W[0], b[0], '|tcost:', cost)\n",
        "\n",
        "def g_W(X, y, iters):\n",
        "  total=0.0\n",
        "  for i in range(len(X)):\n",
        "    total += W[iters] * X[i] + b[iters] - y[i]\n",
        "  return total\n",
        "\n",
        "def g_b(X, y, iters):\n",
        "  total=0.0\n",
        "  for i in range(len(X)):\n",
        "    total += W[iters] * X[i] * X[i] + b[iters] * X[i] - X[i] * y[i]\n",
        "  return total\n",
        "\n",
        "rate = 10/cost # Learning rate   ## 0.000001 * cost \n",
        "MaxItrs = cost  ## 10000\n",
        "precision = 0.0001  ## M1_cost * 0.8\n",
        "\n",
        "while cost > precision: # and iters < MaxItrs:\n",
        "  iters = iters + 1     # iteration count\n",
        "  gradientW = g_W(X, y, iters-1)\n",
        "  gradientB = g_b(X, y, iters-1)\n",
        "  newW = W[iters-1] - rate * gradientW   # Grad descent\n",
        "  newb = b[iters-1] - rate * gradientB   # Grad descent\n",
        "  W.append(newW)\n",
        "  b.append(newb)\n",
        "  cost = costfunction(X, y, W, b, iters)\n",
        "\n",
        "\n",
        "  if iters %100==0:   # 동아리 키-몸무게 사례는 1000000로 설정\n",
        "    print('iteration:', iters, end=',')\n",
        "    print('gradient W: %.1f, gradient b: %.1f, ' % (gradientW, gradientB), end= ' ')\n",
        "    print('W[ %d ]:%.1f, b[%d]:%.1f, cost:%.1f' % (iters, W[iters], iters, b[iters], cost))\n",
        "    ans = input()\n",
        "    if ans =='q':\n",
        "      break"
      ],
      "metadata": {
        "colab": {
          "base_uri": "https://localhost:8080/"
        },
        "id": "RzsA4vtWI6hp",
        "outputId": "2ac54efc-dae9-4eae-bc78-da1562c9f460"
      },
      "execution_count": 38,
      "outputs": [
        {
          "name": "stdout",
          "output_type": "stream",
          "text": [
            "----------------------------------------------\n",
            " Method 2: Statistical Method\n",
            "----------------------------------------------\n",
            "Interation 0 |tW[0: -41.0 -99.0 |tcost: 114130.0\n",
            "iteration: 100,gradient W: -1017.7, gradient b: -1030.5,  W[ 100 ]:-31.8, b[100]:-88.9, cost:92801.1\n",
            "1000\n",
            "iteration: 200,gradient W: -961.9, gradient b: -787.9,  W[ 200 ]:-23.1, b[200]:-80.9, cost:77088.7\n",
            "1000\n",
            "iteration: 300,gradient W: -920.6, gradient b: -557.2,  W[ 300 ]:-14.9, b[300]:-75.0, cost:66040.8\n",
            "1000\n",
            "iteration: 400,gradient W: -893.2, gradient b: -335.0,  W[ 400 ]:-7.0, b[400]:-71.1, cost:58987.9\n",
            "q\n"
          ]
        }
      ]
    },
    {
      "cell_type": "code",
      "source": [
        "X = [157, 160, 160, 168, 172, 175, 175, 177, 182, 184, 188, 190]\n",
        "y = [42, 48, 54, 48, 63, 69, 71, 73, 70, 80, 79, 81]"
      ],
      "metadata": {
        "id": "PWei59NqKhqZ"
      },
      "execution_count": 39,
      "outputs": []
    },
    {
      "cell_type": "code",
      "source": [
        "print('----------------------------------------------')\n",
        "print(' Method 2: Statistical Method')\n",
        "print('----------------------------------------------')\n",
        "\n",
        "W = [0.0]\n",
        "b = [0.0]\n",
        "W[0] = float(random.randint(-100, 100))  ## M1_W[0] \n",
        "b[0] = float(random.randint(-100, 100))  ## M1_b[0] \n",
        "\n",
        "# This tells us when to stop the algorithm\n",
        "iters = 0 # iteration counter\n",
        "cost = costfunction(X, y, W, b, iters)\n",
        "\n",
        "print('Interation', iters, '|tW[0:', W[0], b[0], '|tcost:', cost)\n",
        "\n",
        "def g_W(X, y, iters):\n",
        "  total=0.0\n",
        "  for i in range(len(X)):\n",
        "    total += W[iters] * X[i] + b[iters] - y[i]\n",
        "  return total\n",
        "\n",
        "def g_b(X, y, iters):\n",
        "  total=0.0\n",
        "  for i in range(len(X)):\n",
        "    total += W[iters] * X[i] * X[i] + b[iters] * X[i] - X[i] * y[i]\n",
        "  return total\n",
        "\n",
        "rate = 10/cost # Learning rate   ## 0.000001 * cost \n",
        "MaxItrs = cost  ## 10000\n",
        "precision = 0.0001  ## M1_cost * 0.8\n",
        "\n",
        "while cost > precision: # and iters < MaxItrs:\n",
        "  iters = iters + 1     # iteration count\n",
        "  gradientW = g_W(X, y, iters-1)\n",
        "  gradientB = g_b(X, y, iters-1)\n",
        "  newW = W[iters-1] - rate * gradientW   # Grad descent\n",
        "  newb = b[iters-1] - rate * gradientB   # Grad descent\n",
        "  W.append(newW)\n",
        "  b.append(newb)\n",
        "  cost = costfunction(X, y, W, b, iters)\n",
        "\n",
        "\n",
        "  if iters %1000000==0:   # 동아리 키-몸무게 사례는 1000000로 설정\n",
        "    print('iteration:', iters, end=',')\n",
        "    print('gradient W: %.1f, gradient b: %.1f, ' % (gradientW, gradientB), end= ' ')\n",
        "    print('W[ %d ]:%.1f, b[%d]:%.1f, cost:%.1f' % (iters, W[iters], iters, b[iters], cost))\n",
        "    ans = input()\n",
        "    if ans =='q':\n",
        "      break"
      ],
      "metadata": {
        "colab": {
          "base_uri": "https://localhost:8080/"
        },
        "id": "HEHDYPIYRXRN",
        "outputId": "58be9c42-3a1b-4b52-ddba-f8a4701e07af"
      },
      "execution_count": 40,
      "outputs": [
        {
          "name": "stdout",
          "output_type": "stream",
          "text": [
            "----------------------------------------------\n",
            " Method 2: Statistical Method\n",
            "----------------------------------------------\n",
            "Interation 0 |tW[0: -96.0 8.0 |tcost: 1691916053.0\n",
            "iteration: 1000000,gradient W: 194.0, gradient b: -33819.3,  W[ 1000000 ]:-49.0, b[1000000]:8601.7, cost:1695493.9\n",
            "10000\n",
            "iteration: 2000000,gradient W: 198.5, gradient b: -34601.7,  W[ 2000000 ]:-50.1, b[2000000]:8803.9, cost:1774853.2\n",
            "q\n"
          ]
        }
      ]
    },
    {
      "cell_type": "markdown",
      "source": [
        "### scikit-learn 사용한 선형회귀"
      ],
      "metadata": {
        "id": "kn57KxyWUFy1"
      }
    },
    {
      "cell_type": "markdown",
      "source": [
        "1. 자료준비 및 데이터 분포보기"
      ],
      "metadata": {
        "id": "CZZT614aKItF"
      }
    },
    {
      "cell_type": "code",
      "source": [
        "import matplotlib.pyplot as plt\n",
        "import numpy as np\n",
        "import seaborn as sns\n"
      ],
      "metadata": {
        "id": "1najSYUoRZ7Z"
      },
      "execution_count": 41,
      "outputs": []
    },
    {
      "cell_type": "code",
      "source": [
        "sns.set()\n",
        "rng = np.random.RandomState(42)\n",
        "x = 10 * rng.rand(50)\n",
        "y = 2 * x -1 + rng.randn(50)\n",
        "plt.scatter(x, y)"
      ],
      "metadata": {
        "colab": {
          "base_uri": "https://localhost:8080/",
          "height": 286
        },
        "id": "eSEHmLtzUA0N",
        "outputId": "5a28b9e6-f20d-4b89-fd87-de8c4479d8e5"
      },
      "execution_count": 42,
      "outputs": [
        {
          "output_type": "execute_result",
          "data": {
            "text/plain": [
              "<matplotlib.collections.PathCollection at 0x7feebac04f10>"
            ]
          },
          "metadata": {},
          "execution_count": 42
        },
        {
          "output_type": "display_data",
          "data": {
            "image/png": "[encoded data removed]",
            "text/plain": [
              "<Figure size 432x288 with 1 Axes>"
            ]
          },
          "metadata": {}
        }
      ]
    },
    {
      "cell_type": "markdown",
      "source": [
        "2. 모듈 import"
      ],
      "metadata": {
        "id": "hVBTN_JtKMZl"
      }
    },
    {
      "cell_type": "code",
      "source": [
        "from sklearn.linear_model import LinearRegression"
      ],
      "metadata": {
        "id": "oLOKiM7uVV_w"
      },
      "execution_count": 43,
      "outputs": []
    },
    {
      "cell_type": "markdown",
      "source": [
        "3. 모델 인스턴스화"
      ],
      "metadata": {
        "id": "_00f8QvjKPW8"
      }
    },
    {
      "cell_type": "code",
      "source": [
        "model = LinearRegression(fit_intercept= True)"
      ],
      "metadata": {
        "id": "loHNey--VoOd"
      },
      "execution_count": 44,
      "outputs": []
    },
    {
      "cell_type": "code",
      "source": [
        "LinearRegression(copy_X=True, fit_intercept=True, n_jobs=1, normalize=False)"
      ],
      "metadata": {
        "colab": {
          "base_uri": "https://localhost:8080/"
        },
        "id": "72w1FyhlVz1T",
        "outputId": "ff45a28e-63e2-42f5-84fa-fd123c15a4f2"
      },
      "execution_count": 45,
      "outputs": [
        {
          "output_type": "execute_result",
          "data": {
            "text/plain": [
              "LinearRegression(n_jobs=1, normalize=False)"
            ]
          },
          "metadata": {},
          "execution_count": 45
        }
      ]
    },
    {
      "cell_type": "markdown",
      "source": [
        "4. 데이터를 특징과 대상 벡터로 배치"
      ],
      "metadata": {
        "id": "ge821M-uKTg2"
      }
    },
    {
      "cell_type": "code",
      "source": [
        "X = x[:, np.newaxis]"
      ],
      "metadata": {
        "id": "ciErCmQmWyPJ"
      },
      "execution_count": 46,
      "outputs": []
    },
    {
      "cell_type": "code",
      "source": [
        "x.shape"
      ],
      "metadata": {
        "colab": {
          "base_uri": "https://localhost:8080/"
        },
        "id": "m63r7GeIXsoh",
        "outputId": "e14256d1-a234-4faf-e9db-1a9cc7590a2c"
      },
      "execution_count": 47,
      "outputs": [
        {
          "output_type": "execute_result",
          "data": {
            "text/plain": [
              "(50,)"
            ]
          },
          "metadata": {},
          "execution_count": 47
        }
      ]
    },
    {
      "cell_type": "code",
      "source": [
        "X.shape"
      ],
      "metadata": {
        "colab": {
          "base_uri": "https://localhost:8080/"
        },
        "id": "KH_OAqRnXt2G",
        "outputId": "4e55e1a5-a454-424a-b2ee-58d4daf0b2d4"
      },
      "execution_count": 48,
      "outputs": [
        {
          "output_type": "execute_result",
          "data": {
            "text/plain": [
              "(50, 1)"
            ]
          },
          "metadata": {},
          "execution_count": 48
        }
      ]
    },
    {
      "cell_type": "markdown",
      "source": [
        "5. 주어진 데이터로 모델을 학습시키기"
      ],
      "metadata": {
        "id": "MMOmpNrbKXbA"
      }
    },
    {
      "cell_type": "code",
      "source": [
        "model.fit(X,y)"
      ],
      "metadata": {
        "colab": {
          "base_uri": "https://localhost:8080/"
        },
        "id": "Z_2DixgHXwBw",
        "outputId": "2b46beec-8981-49a4-99a2-3c28eff828f5"
      },
      "execution_count": 49,
      "outputs": [
        {
          "output_type": "execute_result",
          "data": {
            "text/plain": [
              "LinearRegression()"
            ]
          },
          "metadata": {},
          "execution_count": 49
        }
      ]
    },
    {
      "cell_type": "markdown",
      "source": [
        "6. 결과확인"
      ],
      "metadata": {
        "id": "yffExcH8KbmF"
      }
    },
    {
      "cell_type": "code",
      "source": [
        "model.coef_"
      ],
      "metadata": {
        "colab": {
          "base_uri": "https://localhost:8080/"
        },
        "id": "huEbRTC6Xz5D",
        "outputId": "b4ff10d8-f07b-45b9-b7c7-f68f88c8cf07"
      },
      "execution_count": 50,
      "outputs": [
        {
          "output_type": "execute_result",
          "data": {
            "text/plain": [
              "array([1.9776566])"
            ]
          },
          "metadata": {},
          "execution_count": 50
        }
      ]
    },
    {
      "cell_type": "code",
      "source": [
        "model.intercept_"
      ],
      "metadata": {
        "colab": {
          "base_uri": "https://localhost:8080/"
        },
        "id": "iwd-haeXX5-Z",
        "outputId": "62d32049-7a47-429b-da2c-f1a76d703ebe"
      },
      "execution_count": 51,
      "outputs": [
        {
          "output_type": "execute_result",
          "data": {
            "text/plain": [
              "-0.9033107255311146"
            ]
          },
          "metadata": {},
          "execution_count": 51
        }
      ]
    },
    {
      "cell_type": "markdown",
      "source": [
        "7. 학습된 모델로 새로운 데이터에 레이블 예측하기"
      ],
      "metadata": {
        "id": "LdQGm0H8Keq6"
      }
    },
    {
      "cell_type": "code",
      "source": [
        "xfit = np.linspace(-1, 11)"
      ],
      "metadata": {
        "id": "HHNUX7wpYDZ8"
      },
      "execution_count": 52,
      "outputs": []
    },
    {
      "cell_type": "code",
      "source": [
        "Xfit = xfit[:, np.newaxis]\n",
        "yfit = model.predict(Xfit)"
      ],
      "metadata": {
        "id": "dB6bG2-VYMFm"
      },
      "execution_count": 53,
      "outputs": []
    },
    {
      "cell_type": "code",
      "source": [
        "plt.scatter(x,y)\n",
        "plt.plot(xfit, yfit)"
      ],
      "metadata": {
        "colab": {
          "base_uri": "https://localhost:8080/",
          "height": 286
        },
        "id": "9PB-kHWsJvqV",
        "outputId": "3635f52b-5c8a-4d39-fcbc-b84913e48ed5"
      },
      "execution_count": 54,
      "outputs": [
        {
          "output_type": "execute_result",
          "data": {
            "text/plain": [
              "[<matplotlib.lines.Line2D at 0x7feeb2f39350>]"
            ]
          },
          "metadata": {},
          "execution_count": 54
        },
        {
          "output_type": "display_data",
          "data": {
            "image/png": "[encoded data removed]",
            "text/plain": [
              "<Figure size 432x288 with 1 Axes>"
            ]
          },
          "metadata": {}
        }
      ]
    },
    {
      "cell_type": "markdown",
      "source": [
        "* iris 데이터에 적용하기 (데이터와 회귀를 한 번에 보임)"
      ],
      "metadata": {
        "id": "p6p0wIYUKjWI"
      }
    },
    {
      "cell_type": "code",
      "source": [
        "sns.lmplot('petal_length', 'petal_width', data)"
      ],
      "metadata": {
        "colab": {
          "base_uri": "https://localhost:8080/",
          "height": 439
        },
        "id": "PQEu-cjFKDgH",
        "outputId": "790ebd91-0d71-4323-d615-e91c1369975f"
      },
      "execution_count": 55,
      "outputs": [
        {
          "output_type": "stream",
          "name": "stderr",
          "text": [
            "/usr/local/lib/python3.7/dist-packages/seaborn/_decorators.py:43: FutureWarning: Pass the following variables as keyword args: x, y, data. From version 0.12, the only valid positional argument will be `data`, and passing other arguments without an explicit keyword will result in an error or misinterpretation.\n",
            "  FutureWarning\n"
          ]
        },
        {
          "output_type": "execute_result",
          "data": {
            "text/plain": [
              "<seaborn.axisgrid.FacetGrid at 0x7feeb2f39890>"
            ]
          },
          "metadata": {},
          "execution_count": 55
        },
        {
          "output_type": "display_data",
          "data": {
            "image/png": "[encoded data removed]",
            "text/plain": [
              "<Figure size 360x360 with 1 Axes>"
            ]
          },
          "metadata": {}
        }
      ]
    },
    {
      "cell_type": "code",
      "source": [
        ""
      ],
      "metadata": {
        "id": "oFO4vmLUKvKn"
      },
      "execution_count": 55,
      "outputs": []
    }
  ]
}